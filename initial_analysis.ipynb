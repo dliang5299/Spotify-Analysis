{
 "cells": [
  {
   "cell_type": "markdown",
   "id": "ec2db7c6-7ae1-4ed0-9823-ac076a4dd959",
   "metadata": {},
   "source": [
    "# Initial Data Exploration and Analysis"
   ]
  },
  {
   "cell_type": "code",
   "execution_count": 5,
   "id": "49f6ed68-4e58-4d87-aeb2-5299f5f8834f",
   "metadata": {
    "tags": []
   },
   "outputs": [],
   "source": [
    "import numpy as np\n",
    "import pandas as pd\n",
    "import matplotlib.pyplot as plt\n",
    "import datetime as dt\n",
    "\n",
    "\n",
    "# specify the date format to be parsed\n",
    "date_format = '%m/%d/%Y'\n",
    "# read csv files\n",
    "billboard_cleaned = pd.read_csv('billboard_dataset/processed/billboard_cleaned.csv', parse_dates=['week_id'], date_format=date_format)\n",
    "audio_features_merged = pd.read_csv('billboard_dataset/processed/audio_features_merged.csv', parse_dates=['week_id'], date_format=date_format)"
   ]
  },
  {
   "cell_type": "code",
   "execution_count": 6,
   "id": "458c685b-a8b8-47c1-aa3d-5b23cd41165e",
   "metadata": {
    "tags": []
   },
   "outputs": [
    {
     "name": "stdout",
     "output_type": "stream",
     "text": [
      "(327895, 9)\n",
      "Index(['week_id', 'week_position', 'song', 'performer', 'song_id', 'instance',\n",
      "       'previous_week_position', 'peak_position', 'weeks_on_chart'],\n",
      "      dtype='object')\n"
     ]
    },
    {
     "data": {
      "text/html": [
       "<div>\n",
       "<style scoped>\n",
       "    .dataframe tbody tr th:only-of-type {\n",
       "        vertical-align: middle;\n",
       "    }\n",
       "\n",
       "    .dataframe tbody tr th {\n",
       "        vertical-align: top;\n",
       "    }\n",
       "\n",
       "    .dataframe thead th {\n",
       "        text-align: right;\n",
       "    }\n",
       "</style>\n",
       "<table border=\"1\" class=\"dataframe\">\n",
       "  <thead>\n",
       "    <tr style=\"text-align: right;\">\n",
       "      <th></th>\n",
       "      <th>week_id</th>\n",
       "      <th>week_position</th>\n",
       "      <th>song</th>\n",
       "      <th>performer</th>\n",
       "      <th>song_id</th>\n",
       "      <th>instance</th>\n",
       "      <th>previous_week_position</th>\n",
       "      <th>peak_position</th>\n",
       "      <th>weeks_on_chart</th>\n",
       "    </tr>\n",
       "  </thead>\n",
       "  <tbody>\n",
       "    <tr>\n",
       "      <th>0</th>\n",
       "      <td>1965-07-17</td>\n",
       "      <td>34</td>\n",
       "      <td>Don't Just Stand There</td>\n",
       "      <td>Patty Duke</td>\n",
       "      <td>Don't Just Stand TherePatty Duke</td>\n",
       "      <td>1</td>\n",
       "      <td>45.0</td>\n",
       "      <td>34</td>\n",
       "      <td>4</td>\n",
       "    </tr>\n",
       "    <tr>\n",
       "      <th>1</th>\n",
       "      <td>1965-07-24</td>\n",
       "      <td>22</td>\n",
       "      <td>Don't Just Stand There</td>\n",
       "      <td>Patty Duke</td>\n",
       "      <td>Don't Just Stand TherePatty Duke</td>\n",
       "      <td>1</td>\n",
       "      <td>34.0</td>\n",
       "      <td>22</td>\n",
       "      <td>5</td>\n",
       "    </tr>\n",
       "  </tbody>\n",
       "</table>\n",
       "</div>"
      ],
      "text/plain": [
       "      week_id  week_position                    song   performer  \\\n",
       "0  1965-07-17             34  Don't Just Stand There  Patty Duke   \n",
       "1  1965-07-24             22  Don't Just Stand There  Patty Duke   \n",
       "\n",
       "                            song_id  instance  previous_week_position  \\\n",
       "0  Don't Just Stand TherePatty Duke         1                    45.0   \n",
       "1  Don't Just Stand TherePatty Duke         1                    34.0   \n",
       "\n",
       "   peak_position  weeks_on_chart  \n",
       "0             34               4  \n",
       "1             22               5  "
      ]
     },
     "execution_count": 6,
     "metadata": {},
     "output_type": "execute_result"
    }
   ],
   "source": [
    "print(billboard_cleaned.shape)\n",
    "print(billboard_cleaned.columns)\n",
    "billboard_cleaned.head(2)"
   ]
  },
  {
   "cell_type": "code",
   "execution_count": 7,
   "id": "dc5b3137-9437-4ebd-b1bb-e963e0c5c709",
   "metadata": {
    "tags": []
   },
   "outputs": [
    {
     "name": "stdout",
     "output_type": "stream",
     "text": [
      "(29383, 23)\n",
      "Index(['song_id', 'performer', 'song', 'spotify_genre',\n",
      "       'spotify_track_duration_ms', 'spotify_track_explicit',\n",
      "       'spotify_track_album', 'danceability', 'energy', 'key', 'loudness',\n",
      "       'mode', 'speechiness', 'acousticness', 'instrumentalness', 'liveness',\n",
      "       'valence', 'tempo', 'time_signature', 'spotify_track_popularity',\n",
      "       'peak_position', 'week_id', 'weeks_on_chart'],\n",
      "      dtype='object')\n"
     ]
    },
    {
     "data": {
      "text/html": [
       "<div>\n",
       "<style scoped>\n",
       "    .dataframe tbody tr th:only-of-type {\n",
       "        vertical-align: middle;\n",
       "    }\n",
       "\n",
       "    .dataframe tbody tr th {\n",
       "        vertical-align: top;\n",
       "    }\n",
       "\n",
       "    .dataframe thead th {\n",
       "        text-align: right;\n",
       "    }\n",
       "</style>\n",
       "<table border=\"1\" class=\"dataframe\">\n",
       "  <thead>\n",
       "    <tr style=\"text-align: right;\">\n",
       "      <th></th>\n",
       "      <th>song_id</th>\n",
       "      <th>performer</th>\n",
       "      <th>song</th>\n",
       "      <th>spotify_genre</th>\n",
       "      <th>spotify_track_duration_ms</th>\n",
       "      <th>spotify_track_explicit</th>\n",
       "      <th>spotify_track_album</th>\n",
       "      <th>danceability</th>\n",
       "      <th>energy</th>\n",
       "      <th>key</th>\n",
       "      <th>...</th>\n",
       "      <th>acousticness</th>\n",
       "      <th>instrumentalness</th>\n",
       "      <th>liveness</th>\n",
       "      <th>valence</th>\n",
       "      <th>tempo</th>\n",
       "      <th>time_signature</th>\n",
       "      <th>spotify_track_popularity</th>\n",
       "      <th>peak_position</th>\n",
       "      <th>week_id</th>\n",
       "      <th>weeks_on_chart</th>\n",
       "    </tr>\n",
       "  </thead>\n",
       "  <tbody>\n",
       "    <tr>\n",
       "      <th>0</th>\n",
       "      <td>Solid RockGoanna</td>\n",
       "      <td>Goanna</td>\n",
       "      <td>Solid Rock</td>\n",
       "      <td>[\"australian children's music\", \"children's mu...</td>\n",
       "      <td>275226.0</td>\n",
       "      <td>False</td>\n",
       "      <td>Spirit Of Place (Remastered &amp; Expanded)</td>\n",
       "      <td>0.552</td>\n",
       "      <td>0.741</td>\n",
       "      <td>9.0</td>\n",
       "      <td>...</td>\n",
       "      <td>0.00699</td>\n",
       "      <td>0.00133</td>\n",
       "      <td>0.0317</td>\n",
       "      <td>0.508</td>\n",
       "      <td>148.996</td>\n",
       "      <td>4.0</td>\n",
       "      <td>57.0</td>\n",
       "      <td>71</td>\n",
       "      <td>1983-07-23</td>\n",
       "      <td>7</td>\n",
       "    </tr>\n",
       "    <tr>\n",
       "      <th>1</th>\n",
       "      <td>Burning HeartVandenberg</td>\n",
       "      <td>Vandenberg</td>\n",
       "      <td>Burning Heart</td>\n",
       "      <td>[\"australian children's music\"]</td>\n",
       "      <td>250693.0</td>\n",
       "      <td>False</td>\n",
       "      <td>Vandenberg</td>\n",
       "      <td>0.438</td>\n",
       "      <td>0.546</td>\n",
       "      <td>11.0</td>\n",
       "      <td>...</td>\n",
       "      <td>0.12700</td>\n",
       "      <td>0.00000</td>\n",
       "      <td>0.1820</td>\n",
       "      <td>0.486</td>\n",
       "      <td>125.221</td>\n",
       "      <td>4.0</td>\n",
       "      <td>44.0</td>\n",
       "      <td>39</td>\n",
       "      <td>1983-04-09</td>\n",
       "      <td>14</td>\n",
       "    </tr>\n",
       "  </tbody>\n",
       "</table>\n",
       "<p>2 rows × 23 columns</p>\n",
       "</div>"
      ],
      "text/plain": [
       "                   song_id   performer           song  \\\n",
       "0         Solid RockGoanna      Goanna     Solid Rock   \n",
       "1  Burning HeartVandenberg  Vandenberg  Burning Heart   \n",
       "\n",
       "                                       spotify_genre  \\\n",
       "0  [\"australian children's music\", \"children's mu...   \n",
       "1                    [\"australian children's music\"]   \n",
       "\n",
       "   spotify_track_duration_ms spotify_track_explicit  \\\n",
       "0                   275226.0                  False   \n",
       "1                   250693.0                  False   \n",
       "\n",
       "                       spotify_track_album  danceability  energy   key  ...  \\\n",
       "0  Spirit Of Place (Remastered & Expanded)         0.552   0.741   9.0  ...   \n",
       "1                               Vandenberg         0.438   0.546  11.0  ...   \n",
       "\n",
       "   acousticness  instrumentalness  liveness  valence    tempo  time_signature  \\\n",
       "0       0.00699           0.00133    0.0317    0.508  148.996             4.0   \n",
       "1       0.12700           0.00000    0.1820    0.486  125.221             4.0   \n",
       "\n",
       "   spotify_track_popularity  peak_position     week_id  weeks_on_chart  \n",
       "0                      57.0             71  1983-07-23               7  \n",
       "1                      44.0             39  1983-04-09              14  \n",
       "\n",
       "[2 rows x 23 columns]"
      ]
     },
     "execution_count": 7,
     "metadata": {},
     "output_type": "execute_result"
    }
   ],
   "source": [
    "print(audio_features_merged.shape)\n",
    "print(audio_features_merged.columns)\n",
    "audio_features_merged.head(2)"
   ]
  },
  {
   "cell_type": "code",
   "execution_count": null,
   "id": "21f5e854-4af5-4429-b932-87db30f009ec",
   "metadata": {},
   "outputs": [],
   "source": []
  }
 ],
 "metadata": {
  "kernelspec": {
   "display_name": "Python 3 (ipykernel)",
   "language": "python",
   "name": "python3"
  },
  "language_info": {
   "codemirror_mode": {
    "name": "ipython",
    "version": 3
   },
   "file_extension": ".py",
   "mimetype": "text/x-python",
   "name": "python",
   "nbconvert_exporter": "python",
   "pygments_lexer": "ipython3",
   "version": "3.11.4"
  }
 },
 "nbformat": 4,
 "nbformat_minor": 5
}
