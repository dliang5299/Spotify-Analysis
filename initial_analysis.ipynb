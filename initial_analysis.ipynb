{
 "cells": [
  {
   "cell_type": "markdown",
   "id": "ec2db7c6-7ae1-4ed0-9823-ac076a4dd959",
   "metadata": {
    "tags": []
   },
   "source": [
    "# Initial Data Exploration and Analysis"
   ]
  },
  {
   "cell_type": "code",
   "execution_count": 1,
   "id": "49f6ed68-4e58-4d87-aeb2-5299f5f8834f",
   "metadata": {
    "tags": []
   },
   "outputs": [],
   "source": [
    "import numpy as np\n",
    "import pandas as pd\n",
    "import matplotlib.pyplot as plt\n",
    "import datetime as dt\n",
    "import seaborn as sns\n",
    "\n",
    "# specify the date format to be parsed\n",
    "date_format = '%Y-%m-%d'\n",
    "# read csv files\n",
    "billboard_cleaned = pd.read_csv('billboard_dataset/processed/billboard_cleaned.csv', parse_dates=['week_id'], date_format=date_format)\n",
    "audio_features_merged = pd.read_csv('billboard_dataset/processed/audio_features_merged.csv', parse_dates=['week_id'], date_format=date_format)"
   ]
  },
  {
   "cell_type": "code",
   "execution_count": 2,
   "id": "458c685b-a8b8-47c1-aa3d-5b23cd41165e",
   "metadata": {
    "tags": []
   },
   "outputs": [
    {
     "name": "stdout",
     "output_type": "stream",
     "text": [
      "(327895, 9)\n",
      "Index(['week_id', 'week_position', 'song', 'performer', 'song_id', 'instance',\n",
      "       'previous_week_position', 'peak_position', 'weeks_on_chart'],\n",
      "      dtype='object')\n"
     ]
    },
    {
     "data": {
      "text/html": [
       "<div>\n",
       "<style scoped>\n",
       "    .dataframe tbody tr th:only-of-type {\n",
       "        vertical-align: middle;\n",
       "    }\n",
       "\n",
       "    .dataframe tbody tr th {\n",
       "        vertical-align: top;\n",
       "    }\n",
       "\n",
       "    .dataframe thead th {\n",
       "        text-align: right;\n",
       "    }\n",
       "</style>\n",
       "<table border=\"1\" class=\"dataframe\">\n",
       "  <thead>\n",
       "    <tr style=\"text-align: right;\">\n",
       "      <th></th>\n",
       "      <th>week_id</th>\n",
       "      <th>week_position</th>\n",
       "      <th>song</th>\n",
       "      <th>performer</th>\n",
       "      <th>song_id</th>\n",
       "      <th>instance</th>\n",
       "      <th>previous_week_position</th>\n",
       "      <th>peak_position</th>\n",
       "      <th>weeks_on_chart</th>\n",
       "    </tr>\n",
       "  </thead>\n",
       "  <tbody>\n",
       "    <tr>\n",
       "      <th>0</th>\n",
       "      <td>1965-07-17</td>\n",
       "      <td>34</td>\n",
       "      <td>Don't Just Stand There</td>\n",
       "      <td>Patty Duke</td>\n",
       "      <td>Don't Just Stand TherePatty Duke</td>\n",
       "      <td>1</td>\n",
       "      <td>45.0</td>\n",
       "      <td>34</td>\n",
       "      <td>4</td>\n",
       "    </tr>\n",
       "    <tr>\n",
       "      <th>1</th>\n",
       "      <td>1965-07-24</td>\n",
       "      <td>22</td>\n",
       "      <td>Don't Just Stand There</td>\n",
       "      <td>Patty Duke</td>\n",
       "      <td>Don't Just Stand TherePatty Duke</td>\n",
       "      <td>1</td>\n",
       "      <td>34.0</td>\n",
       "      <td>22</td>\n",
       "      <td>5</td>\n",
       "    </tr>\n",
       "  </tbody>\n",
       "</table>\n",
       "</div>"
      ],
      "text/plain": [
       "     week_id  week_position                    song   performer  \\\n",
       "0 1965-07-17             34  Don't Just Stand There  Patty Duke   \n",
       "1 1965-07-24             22  Don't Just Stand There  Patty Duke   \n",
       "\n",
       "                            song_id  instance  previous_week_position  \\\n",
       "0  Don't Just Stand TherePatty Duke         1                    45.0   \n",
       "1  Don't Just Stand TherePatty Duke         1                    34.0   \n",
       "\n",
       "   peak_position  weeks_on_chart  \n",
       "0             34               4  \n",
       "1             22               5  "
      ]
     },
     "execution_count": 2,
     "metadata": {},
     "output_type": "execute_result"
    }
   ],
   "source": [
    "print(billboard_cleaned.shape)\n",
    "print(billboard_cleaned.columns)\n",
    "billboard_cleaned.head(2)"
   ]
  },
  {
   "cell_type": "code",
   "execution_count": 3,
   "id": "dc5b3137-9437-4ebd-b1bb-e963e0c5c709",
   "metadata": {
    "tags": []
   },
   "outputs": [
    {
     "name": "stdout",
     "output_type": "stream",
     "text": [
      "(29383, 23)\n",
      "Index(['song_id', 'performer', 'song', 'spotify_genre',\n",
      "       'spotify_track_duration_ms', 'spotify_track_explicit',\n",
      "       'spotify_track_album', 'danceability', 'energy', 'key', 'loudness',\n",
      "       'mode', 'speechiness', 'acousticness', 'instrumentalness', 'liveness',\n",
      "       'valence', 'tempo', 'time_signature', 'spotify_track_popularity',\n",
      "       'peak_position', 'week_id', 'weeks_on_chart'],\n",
      "      dtype='object')\n"
     ]
    },
    {
     "data": {
      "text/html": [
       "<div>\n",
       "<style scoped>\n",
       "    .dataframe tbody tr th:only-of-type {\n",
       "        vertical-align: middle;\n",
       "    }\n",
       "\n",
       "    .dataframe tbody tr th {\n",
       "        vertical-align: top;\n",
       "    }\n",
       "\n",
       "    .dataframe thead th {\n",
       "        text-align: right;\n",
       "    }\n",
       "</style>\n",
       "<table border=\"1\" class=\"dataframe\">\n",
       "  <thead>\n",
       "    <tr style=\"text-align: right;\">\n",
       "      <th></th>\n",
       "      <th>song_id</th>\n",
       "      <th>performer</th>\n",
       "      <th>song</th>\n",
       "      <th>spotify_genre</th>\n",
       "      <th>spotify_track_duration_ms</th>\n",
       "      <th>spotify_track_explicit</th>\n",
       "      <th>spotify_track_album</th>\n",
       "      <th>danceability</th>\n",
       "      <th>energy</th>\n",
       "      <th>key</th>\n",
       "      <th>...</th>\n",
       "      <th>acousticness</th>\n",
       "      <th>instrumentalness</th>\n",
       "      <th>liveness</th>\n",
       "      <th>valence</th>\n",
       "      <th>tempo</th>\n",
       "      <th>time_signature</th>\n",
       "      <th>spotify_track_popularity</th>\n",
       "      <th>peak_position</th>\n",
       "      <th>week_id</th>\n",
       "      <th>weeks_on_chart</th>\n",
       "    </tr>\n",
       "  </thead>\n",
       "  <tbody>\n",
       "    <tr>\n",
       "      <th>0</th>\n",
       "      <td>Solid RockGoanna</td>\n",
       "      <td>Goanna</td>\n",
       "      <td>Solid Rock</td>\n",
       "      <td>[\"australian children's music\", \"children's mu...</td>\n",
       "      <td>275226.0</td>\n",
       "      <td>False</td>\n",
       "      <td>Spirit Of Place (Remastered &amp; Expanded)</td>\n",
       "      <td>0.552</td>\n",
       "      <td>0.741</td>\n",
       "      <td>9.0</td>\n",
       "      <td>...</td>\n",
       "      <td>0.00699</td>\n",
       "      <td>0.00133</td>\n",
       "      <td>0.0317</td>\n",
       "      <td>0.508</td>\n",
       "      <td>148.996</td>\n",
       "      <td>4.0</td>\n",
       "      <td>57.0</td>\n",
       "      <td>71</td>\n",
       "      <td>1983-07-23</td>\n",
       "      <td>7</td>\n",
       "    </tr>\n",
       "    <tr>\n",
       "      <th>1</th>\n",
       "      <td>Burning HeartVandenberg</td>\n",
       "      <td>Vandenberg</td>\n",
       "      <td>Burning Heart</td>\n",
       "      <td>[\"australian children's music\"]</td>\n",
       "      <td>250693.0</td>\n",
       "      <td>False</td>\n",
       "      <td>Vandenberg</td>\n",
       "      <td>0.438</td>\n",
       "      <td>0.546</td>\n",
       "      <td>11.0</td>\n",
       "      <td>...</td>\n",
       "      <td>0.12700</td>\n",
       "      <td>0.00000</td>\n",
       "      <td>0.1820</td>\n",
       "      <td>0.486</td>\n",
       "      <td>125.221</td>\n",
       "      <td>4.0</td>\n",
       "      <td>44.0</td>\n",
       "      <td>39</td>\n",
       "      <td>1983-04-09</td>\n",
       "      <td>14</td>\n",
       "    </tr>\n",
       "  </tbody>\n",
       "</table>\n",
       "<p>2 rows × 23 columns</p>\n",
       "</div>"
      ],
      "text/plain": [
       "                   song_id   performer           song  \\\n",
       "0         Solid RockGoanna      Goanna     Solid Rock   \n",
       "1  Burning HeartVandenberg  Vandenberg  Burning Heart   \n",
       "\n",
       "                                       spotify_genre  \\\n",
       "0  [\"australian children's music\", \"children's mu...   \n",
       "1                    [\"australian children's music\"]   \n",
       "\n",
       "   spotify_track_duration_ms spotify_track_explicit  \\\n",
       "0                   275226.0                  False   \n",
       "1                   250693.0                  False   \n",
       "\n",
       "                       spotify_track_album  danceability  energy   key  ...  \\\n",
       "0  Spirit Of Place (Remastered & Expanded)         0.552   0.741   9.0  ...   \n",
       "1                               Vandenberg         0.438   0.546  11.0  ...   \n",
       "\n",
       "   acousticness  instrumentalness  liveness  valence    tempo  time_signature  \\\n",
       "0       0.00699           0.00133    0.0317    0.508  148.996             4.0   \n",
       "1       0.12700           0.00000    0.1820    0.486  125.221             4.0   \n",
       "\n",
       "   spotify_track_popularity  peak_position    week_id  weeks_on_chart  \n",
       "0                      57.0             71 1983-07-23               7  \n",
       "1                      44.0             39 1983-04-09              14  \n",
       "\n",
       "[2 rows x 23 columns]"
      ]
     },
     "execution_count": 3,
     "metadata": {},
     "output_type": "execute_result"
    }
   ],
   "source": [
    "print(audio_features_merged.shape)\n",
    "print(audio_features_merged.columns)\n",
    "audio_features_merged.head(2)"
   ]
  },
  {
   "cell_type": "markdown",
   "id": "6317f8dc-f584-4afd-b0a6-bf2c195927e2",
   "metadata": {},
   "source": [
    "variables to run analyses:\n",
    "- tunebat\n",
    "- key % mode\n",
    "- duration\n",
    "- genre\n",
    "- seasonality\n"
   ]
  },
  {
   "cell_type": "markdown",
   "id": "03c51035-d318-46b5-b743-0e163b0228e2",
   "metadata": {},
   "source": [
    "### Billboard Ranking Analysis"
   ]
  },
  {
   "cell_type": "code",
   "execution_count": 4,
   "id": "743f0e88-5194-4735-bb93-e48f89053552",
   "metadata": {
    "tags": []
   },
   "outputs": [
    {
     "ename": "KeyboardInterrupt",
     "evalue": "",
     "output_type": "error",
     "traceback": [
      "\u001b[0;31m---------------------------------------------------------------------------\u001b[0m",
      "\u001b[0;31mKeyboardInterrupt\u001b[0m                         Traceback (most recent call last)",
      "Cell \u001b[0;32mIn[4], line 7\u001b[0m\n\u001b[1;32m      5\u001b[0m plt\u001b[38;5;241m.\u001b[39mylabel(\u001b[38;5;124m'\u001b[39m\u001b[38;5;124mCount\u001b[39m\u001b[38;5;124m'\u001b[39m)\n\u001b[1;32m      6\u001b[0m plt\u001b[38;5;241m.\u001b[39mxlim(\u001b[38;5;241m0.8\u001b[39m,\u001b[38;5;241m100\u001b[39m)\n\u001b[0;32m----> 7\u001b[0m plt\u001b[38;5;241m.\u001b[39mshow()\n",
      "File \u001b[0;32m~/anaconda3/lib/python3.11/site-packages/matplotlib/pyplot.py:446\u001b[0m, in \u001b[0;36mshow\u001b[0;34m(*args, **kwargs)\u001b[0m\n\u001b[1;32m    402\u001b[0m \u001b[38;5;250m\u001b[39m\u001b[38;5;124;03m\"\"\"\u001b[39;00m\n\u001b[1;32m    403\u001b[0m \u001b[38;5;124;03mDisplay all open figures.\u001b[39;00m\n\u001b[1;32m    404\u001b[0m \n\u001b[0;32m   (...)\u001b[0m\n\u001b[1;32m    443\u001b[0m \u001b[38;5;124;03mexplicitly there.\u001b[39;00m\n\u001b[1;32m    444\u001b[0m \u001b[38;5;124;03m\"\"\"\u001b[39;00m\n\u001b[1;32m    445\u001b[0m _warn_if_gui_out_of_main_thread()\n\u001b[0;32m--> 446\u001b[0m \u001b[38;5;28;01mreturn\u001b[39;00m _get_backend_mod()\u001b[38;5;241m.\u001b[39mshow(\u001b[38;5;241m*\u001b[39margs, \u001b[38;5;241m*\u001b[39m\u001b[38;5;241m*\u001b[39mkwargs)\n",
      "File \u001b[0;32m~/anaconda3/lib/python3.11/site-packages/matplotlib_inline/backend_inline.py:90\u001b[0m, in \u001b[0;36mshow\u001b[0;34m(close, block)\u001b[0m\n\u001b[1;32m     88\u001b[0m \u001b[38;5;28;01mtry\u001b[39;00m:\n\u001b[1;32m     89\u001b[0m     \u001b[38;5;28;01mfor\u001b[39;00m figure_manager \u001b[38;5;129;01min\u001b[39;00m Gcf\u001b[38;5;241m.\u001b[39mget_all_fig_managers():\n\u001b[0;32m---> 90\u001b[0m         display(\n\u001b[1;32m     91\u001b[0m             figure_manager\u001b[38;5;241m.\u001b[39mcanvas\u001b[38;5;241m.\u001b[39mfigure,\n\u001b[1;32m     92\u001b[0m             metadata\u001b[38;5;241m=\u001b[39m_fetch_figure_metadata(figure_manager\u001b[38;5;241m.\u001b[39mcanvas\u001b[38;5;241m.\u001b[39mfigure)\n\u001b[1;32m     93\u001b[0m         )\n\u001b[1;32m     94\u001b[0m \u001b[38;5;28;01mfinally\u001b[39;00m:\n\u001b[1;32m     95\u001b[0m     show\u001b[38;5;241m.\u001b[39m_to_draw \u001b[38;5;241m=\u001b[39m []\n",
      "File \u001b[0;32m~/anaconda3/lib/python3.11/site-packages/IPython/core/display_functions.py:298\u001b[0m, in \u001b[0;36mdisplay\u001b[0;34m(include, exclude, metadata, transient, display_id, raw, clear, *objs, **kwargs)\u001b[0m\n\u001b[1;32m    296\u001b[0m     publish_display_data(data\u001b[38;5;241m=\u001b[39mobj, metadata\u001b[38;5;241m=\u001b[39mmetadata, \u001b[38;5;241m*\u001b[39m\u001b[38;5;241m*\u001b[39mkwargs)\n\u001b[1;32m    297\u001b[0m \u001b[38;5;28;01melse\u001b[39;00m:\n\u001b[0;32m--> 298\u001b[0m     format_dict, md_dict \u001b[38;5;241m=\u001b[39m \u001b[38;5;28mformat\u001b[39m(obj, include\u001b[38;5;241m=\u001b[39minclude, exclude\u001b[38;5;241m=\u001b[39mexclude)\n\u001b[1;32m    299\u001b[0m     \u001b[38;5;28;01mif\u001b[39;00m \u001b[38;5;129;01mnot\u001b[39;00m format_dict:\n\u001b[1;32m    300\u001b[0m         \u001b[38;5;66;03m# nothing to display (e.g. _ipython_display_ took over)\u001b[39;00m\n\u001b[1;32m    301\u001b[0m         \u001b[38;5;28;01mcontinue\u001b[39;00m\n",
      "File \u001b[0;32m~/anaconda3/lib/python3.11/site-packages/IPython/core/formatters.py:179\u001b[0m, in \u001b[0;36mDisplayFormatter.format\u001b[0;34m(self, obj, include, exclude)\u001b[0m\n\u001b[1;32m    177\u001b[0m md \u001b[38;5;241m=\u001b[39m \u001b[38;5;28;01mNone\u001b[39;00m\n\u001b[1;32m    178\u001b[0m \u001b[38;5;28;01mtry\u001b[39;00m:\n\u001b[0;32m--> 179\u001b[0m     data \u001b[38;5;241m=\u001b[39m formatter(obj)\n\u001b[1;32m    180\u001b[0m \u001b[38;5;28;01mexcept\u001b[39;00m:\n\u001b[1;32m    181\u001b[0m     \u001b[38;5;66;03m# FIXME: log the exception\u001b[39;00m\n\u001b[1;32m    182\u001b[0m     \u001b[38;5;28;01mraise\u001b[39;00m\n",
      "File \u001b[0;32m~/anaconda3/lib/python3.11/site-packages/decorator.py:232\u001b[0m, in \u001b[0;36mdecorate.<locals>.fun\u001b[0;34m(*args, **kw)\u001b[0m\n\u001b[1;32m    230\u001b[0m \u001b[38;5;28;01mif\u001b[39;00m \u001b[38;5;129;01mnot\u001b[39;00m kwsyntax:\n\u001b[1;32m    231\u001b[0m     args, kw \u001b[38;5;241m=\u001b[39m fix(args, kw, sig)\n\u001b[0;32m--> 232\u001b[0m \u001b[38;5;28;01mreturn\u001b[39;00m caller(func, \u001b[38;5;241m*\u001b[39m(extras \u001b[38;5;241m+\u001b[39m args), \u001b[38;5;241m*\u001b[39m\u001b[38;5;241m*\u001b[39mkw)\n",
      "File \u001b[0;32m~/anaconda3/lib/python3.11/site-packages/IPython/core/formatters.py:223\u001b[0m, in \u001b[0;36mcatch_format_error\u001b[0;34m(method, self, *args, **kwargs)\u001b[0m\n\u001b[1;32m    221\u001b[0m \u001b[38;5;250m\u001b[39m\u001b[38;5;124;03m\"\"\"show traceback on failed format call\"\"\"\u001b[39;00m\n\u001b[1;32m    222\u001b[0m \u001b[38;5;28;01mtry\u001b[39;00m:\n\u001b[0;32m--> 223\u001b[0m     r \u001b[38;5;241m=\u001b[39m method(\u001b[38;5;28mself\u001b[39m, \u001b[38;5;241m*\u001b[39margs, \u001b[38;5;241m*\u001b[39m\u001b[38;5;241m*\u001b[39mkwargs)\n\u001b[1;32m    224\u001b[0m \u001b[38;5;28;01mexcept\u001b[39;00m \u001b[38;5;167;01mNotImplementedError\u001b[39;00m:\n\u001b[1;32m    225\u001b[0m     \u001b[38;5;66;03m# don't warn on NotImplementedErrors\u001b[39;00m\n\u001b[1;32m    226\u001b[0m     \u001b[38;5;28;01mreturn\u001b[39;00m \u001b[38;5;28mself\u001b[39m\u001b[38;5;241m.\u001b[39m_check_return(\u001b[38;5;28;01mNone\u001b[39;00m, args[\u001b[38;5;241m0\u001b[39m])\n",
      "File \u001b[0;32m~/anaconda3/lib/python3.11/site-packages/IPython/core/formatters.py:340\u001b[0m, in \u001b[0;36mBaseFormatter.__call__\u001b[0;34m(self, obj)\u001b[0m\n\u001b[1;32m    338\u001b[0m     \u001b[38;5;28;01mpass\u001b[39;00m\n\u001b[1;32m    339\u001b[0m \u001b[38;5;28;01melse\u001b[39;00m:\n\u001b[0;32m--> 340\u001b[0m     \u001b[38;5;28;01mreturn\u001b[39;00m printer(obj)\n\u001b[1;32m    341\u001b[0m \u001b[38;5;66;03m# Finally look for special method names\u001b[39;00m\n\u001b[1;32m    342\u001b[0m method \u001b[38;5;241m=\u001b[39m get_real_method(obj, \u001b[38;5;28mself\u001b[39m\u001b[38;5;241m.\u001b[39mprint_method)\n",
      "File \u001b[0;32m~/anaconda3/lib/python3.11/site-packages/IPython/core/pylabtools.py:152\u001b[0m, in \u001b[0;36mprint_figure\u001b[0;34m(fig, fmt, bbox_inches, base64, **kwargs)\u001b[0m\n\u001b[1;32m    149\u001b[0m     \u001b[38;5;28;01mfrom\u001b[39;00m \u001b[38;5;21;01mmatplotlib\u001b[39;00m\u001b[38;5;21;01m.\u001b[39;00m\u001b[38;5;21;01mbackend_bases\u001b[39;00m \u001b[38;5;28;01mimport\u001b[39;00m FigureCanvasBase\n\u001b[1;32m    150\u001b[0m     FigureCanvasBase(fig)\n\u001b[0;32m--> 152\u001b[0m fig\u001b[38;5;241m.\u001b[39mcanvas\u001b[38;5;241m.\u001b[39mprint_figure(bytes_io, \u001b[38;5;241m*\u001b[39m\u001b[38;5;241m*\u001b[39mkw)\n\u001b[1;32m    153\u001b[0m data \u001b[38;5;241m=\u001b[39m bytes_io\u001b[38;5;241m.\u001b[39mgetvalue()\n\u001b[1;32m    154\u001b[0m \u001b[38;5;28;01mif\u001b[39;00m fmt \u001b[38;5;241m==\u001b[39m \u001b[38;5;124m'\u001b[39m\u001b[38;5;124msvg\u001b[39m\u001b[38;5;124m'\u001b[39m:\n",
      "File \u001b[0;32m~/anaconda3/lib/python3.11/site-packages/matplotlib/backend_bases.py:2342\u001b[0m, in \u001b[0;36mFigureCanvasBase.print_figure\u001b[0;34m(self, filename, dpi, facecolor, edgecolor, orientation, format, bbox_inches, pad_inches, bbox_extra_artists, backend, **kwargs)\u001b[0m\n\u001b[1;32m   2336\u001b[0m     renderer \u001b[38;5;241m=\u001b[39m _get_renderer(\n\u001b[1;32m   2337\u001b[0m         \u001b[38;5;28mself\u001b[39m\u001b[38;5;241m.\u001b[39mfigure,\n\u001b[1;32m   2338\u001b[0m         functools\u001b[38;5;241m.\u001b[39mpartial(\n\u001b[1;32m   2339\u001b[0m             print_method, orientation\u001b[38;5;241m=\u001b[39morientation)\n\u001b[1;32m   2340\u001b[0m     )\n\u001b[1;32m   2341\u001b[0m     \u001b[38;5;28;01mwith\u001b[39;00m \u001b[38;5;28mgetattr\u001b[39m(renderer, \u001b[38;5;124m\"\u001b[39m\u001b[38;5;124m_draw_disabled\u001b[39m\u001b[38;5;124m\"\u001b[39m, nullcontext)():\n\u001b[0;32m-> 2342\u001b[0m         \u001b[38;5;28mself\u001b[39m\u001b[38;5;241m.\u001b[39mfigure\u001b[38;5;241m.\u001b[39mdraw(renderer)\n\u001b[1;32m   2344\u001b[0m \u001b[38;5;28;01mif\u001b[39;00m bbox_inches:\n\u001b[1;32m   2345\u001b[0m     \u001b[38;5;28;01mif\u001b[39;00m bbox_inches \u001b[38;5;241m==\u001b[39m \u001b[38;5;124m\"\u001b[39m\u001b[38;5;124mtight\u001b[39m\u001b[38;5;124m\"\u001b[39m:\n",
      "File \u001b[0;32m~/anaconda3/lib/python3.11/site-packages/matplotlib/artist.py:95\u001b[0m, in \u001b[0;36m_finalize_rasterization.<locals>.draw_wrapper\u001b[0;34m(artist, renderer, *args, **kwargs)\u001b[0m\n\u001b[1;32m     93\u001b[0m \u001b[38;5;129m@wraps\u001b[39m(draw)\n\u001b[1;32m     94\u001b[0m \u001b[38;5;28;01mdef\u001b[39;00m \u001b[38;5;21mdraw_wrapper\u001b[39m(artist, renderer, \u001b[38;5;241m*\u001b[39margs, \u001b[38;5;241m*\u001b[39m\u001b[38;5;241m*\u001b[39mkwargs):\n\u001b[0;32m---> 95\u001b[0m     result \u001b[38;5;241m=\u001b[39m draw(artist, renderer, \u001b[38;5;241m*\u001b[39margs, \u001b[38;5;241m*\u001b[39m\u001b[38;5;241m*\u001b[39mkwargs)\n\u001b[1;32m     96\u001b[0m     \u001b[38;5;28;01mif\u001b[39;00m renderer\u001b[38;5;241m.\u001b[39m_rasterizing:\n\u001b[1;32m     97\u001b[0m         renderer\u001b[38;5;241m.\u001b[39mstop_rasterizing()\n",
      "File \u001b[0;32m~/anaconda3/lib/python3.11/site-packages/matplotlib/artist.py:72\u001b[0m, in \u001b[0;36mallow_rasterization.<locals>.draw_wrapper\u001b[0;34m(artist, renderer)\u001b[0m\n\u001b[1;32m     69\u001b[0m     \u001b[38;5;28;01mif\u001b[39;00m artist\u001b[38;5;241m.\u001b[39mget_agg_filter() \u001b[38;5;129;01mis\u001b[39;00m \u001b[38;5;129;01mnot\u001b[39;00m \u001b[38;5;28;01mNone\u001b[39;00m:\n\u001b[1;32m     70\u001b[0m         renderer\u001b[38;5;241m.\u001b[39mstart_filter()\n\u001b[0;32m---> 72\u001b[0m     \u001b[38;5;28;01mreturn\u001b[39;00m draw(artist, renderer)\n\u001b[1;32m     73\u001b[0m \u001b[38;5;28;01mfinally\u001b[39;00m:\n\u001b[1;32m     74\u001b[0m     \u001b[38;5;28;01mif\u001b[39;00m artist\u001b[38;5;241m.\u001b[39mget_agg_filter() \u001b[38;5;129;01mis\u001b[39;00m \u001b[38;5;129;01mnot\u001b[39;00m \u001b[38;5;28;01mNone\u001b[39;00m:\n",
      "File \u001b[0;32m~/anaconda3/lib/python3.11/site-packages/matplotlib/figure.py:3140\u001b[0m, in \u001b[0;36mFigure.draw\u001b[0;34m(self, renderer)\u001b[0m\n\u001b[1;32m   3137\u001b[0m         \u001b[38;5;66;03m# ValueError can occur when resizing a window.\u001b[39;00m\n\u001b[1;32m   3139\u001b[0m \u001b[38;5;28mself\u001b[39m\u001b[38;5;241m.\u001b[39mpatch\u001b[38;5;241m.\u001b[39mdraw(renderer)\n\u001b[0;32m-> 3140\u001b[0m mimage\u001b[38;5;241m.\u001b[39m_draw_list_compositing_images(\n\u001b[1;32m   3141\u001b[0m     renderer, \u001b[38;5;28mself\u001b[39m, artists, \u001b[38;5;28mself\u001b[39m\u001b[38;5;241m.\u001b[39msuppressComposite)\n\u001b[1;32m   3143\u001b[0m \u001b[38;5;28;01mfor\u001b[39;00m sfig \u001b[38;5;129;01min\u001b[39;00m \u001b[38;5;28mself\u001b[39m\u001b[38;5;241m.\u001b[39msubfigs:\n\u001b[1;32m   3144\u001b[0m     sfig\u001b[38;5;241m.\u001b[39mdraw(renderer)\n",
      "File \u001b[0;32m~/anaconda3/lib/python3.11/site-packages/matplotlib/image.py:131\u001b[0m, in \u001b[0;36m_draw_list_compositing_images\u001b[0;34m(renderer, parent, artists, suppress_composite)\u001b[0m\n\u001b[1;32m    129\u001b[0m \u001b[38;5;28;01mif\u001b[39;00m not_composite \u001b[38;5;129;01mor\u001b[39;00m \u001b[38;5;129;01mnot\u001b[39;00m has_images:\n\u001b[1;32m    130\u001b[0m     \u001b[38;5;28;01mfor\u001b[39;00m a \u001b[38;5;129;01min\u001b[39;00m artists:\n\u001b[0;32m--> 131\u001b[0m         a\u001b[38;5;241m.\u001b[39mdraw(renderer)\n\u001b[1;32m    132\u001b[0m \u001b[38;5;28;01melse\u001b[39;00m:\n\u001b[1;32m    133\u001b[0m     \u001b[38;5;66;03m# Composite any adjacent images together\u001b[39;00m\n\u001b[1;32m    134\u001b[0m     image_group \u001b[38;5;241m=\u001b[39m []\n",
      "File \u001b[0;32m~/anaconda3/lib/python3.11/site-packages/matplotlib/artist.py:72\u001b[0m, in \u001b[0;36mallow_rasterization.<locals>.draw_wrapper\u001b[0;34m(artist, renderer)\u001b[0m\n\u001b[1;32m     69\u001b[0m     \u001b[38;5;28;01mif\u001b[39;00m artist\u001b[38;5;241m.\u001b[39mget_agg_filter() \u001b[38;5;129;01mis\u001b[39;00m \u001b[38;5;129;01mnot\u001b[39;00m \u001b[38;5;28;01mNone\u001b[39;00m:\n\u001b[1;32m     70\u001b[0m         renderer\u001b[38;5;241m.\u001b[39mstart_filter()\n\u001b[0;32m---> 72\u001b[0m     \u001b[38;5;28;01mreturn\u001b[39;00m draw(artist, renderer)\n\u001b[1;32m     73\u001b[0m \u001b[38;5;28;01mfinally\u001b[39;00m:\n\u001b[1;32m     74\u001b[0m     \u001b[38;5;28;01mif\u001b[39;00m artist\u001b[38;5;241m.\u001b[39mget_agg_filter() \u001b[38;5;129;01mis\u001b[39;00m \u001b[38;5;129;01mnot\u001b[39;00m \u001b[38;5;28;01mNone\u001b[39;00m:\n",
      "File \u001b[0;32m~/anaconda3/lib/python3.11/site-packages/matplotlib/axes/_base.py:3064\u001b[0m, in \u001b[0;36m_AxesBase.draw\u001b[0;34m(self, renderer)\u001b[0m\n\u001b[1;32m   3061\u001b[0m \u001b[38;5;28;01mif\u001b[39;00m artists_rasterized:\n\u001b[1;32m   3062\u001b[0m     _draw_rasterized(\u001b[38;5;28mself\u001b[39m\u001b[38;5;241m.\u001b[39mfigure, artists_rasterized, renderer)\n\u001b[0;32m-> 3064\u001b[0m mimage\u001b[38;5;241m.\u001b[39m_draw_list_compositing_images(\n\u001b[1;32m   3065\u001b[0m     renderer, \u001b[38;5;28mself\u001b[39m, artists, \u001b[38;5;28mself\u001b[39m\u001b[38;5;241m.\u001b[39mfigure\u001b[38;5;241m.\u001b[39msuppressComposite)\n\u001b[1;32m   3067\u001b[0m renderer\u001b[38;5;241m.\u001b[39mclose_group(\u001b[38;5;124m'\u001b[39m\u001b[38;5;124maxes\u001b[39m\u001b[38;5;124m'\u001b[39m)\n\u001b[1;32m   3068\u001b[0m \u001b[38;5;28mself\u001b[39m\u001b[38;5;241m.\u001b[39mstale \u001b[38;5;241m=\u001b[39m \u001b[38;5;28;01mFalse\u001b[39;00m\n",
      "File \u001b[0;32m~/anaconda3/lib/python3.11/site-packages/matplotlib/image.py:131\u001b[0m, in \u001b[0;36m_draw_list_compositing_images\u001b[0;34m(renderer, parent, artists, suppress_composite)\u001b[0m\n\u001b[1;32m    129\u001b[0m \u001b[38;5;28;01mif\u001b[39;00m not_composite \u001b[38;5;129;01mor\u001b[39;00m \u001b[38;5;129;01mnot\u001b[39;00m has_images:\n\u001b[1;32m    130\u001b[0m     \u001b[38;5;28;01mfor\u001b[39;00m a \u001b[38;5;129;01min\u001b[39;00m artists:\n\u001b[0;32m--> 131\u001b[0m         a\u001b[38;5;241m.\u001b[39mdraw(renderer)\n\u001b[1;32m    132\u001b[0m \u001b[38;5;28;01melse\u001b[39;00m:\n\u001b[1;32m    133\u001b[0m     \u001b[38;5;66;03m# Composite any adjacent images together\u001b[39;00m\n\u001b[1;32m    134\u001b[0m     image_group \u001b[38;5;241m=\u001b[39m []\n",
      "File \u001b[0;32m~/anaconda3/lib/python3.11/site-packages/matplotlib/artist.py:72\u001b[0m, in \u001b[0;36mallow_rasterization.<locals>.draw_wrapper\u001b[0;34m(artist, renderer)\u001b[0m\n\u001b[1;32m     69\u001b[0m     \u001b[38;5;28;01mif\u001b[39;00m artist\u001b[38;5;241m.\u001b[39mget_agg_filter() \u001b[38;5;129;01mis\u001b[39;00m \u001b[38;5;129;01mnot\u001b[39;00m \u001b[38;5;28;01mNone\u001b[39;00m:\n\u001b[1;32m     70\u001b[0m         renderer\u001b[38;5;241m.\u001b[39mstart_filter()\n\u001b[0;32m---> 72\u001b[0m     \u001b[38;5;28;01mreturn\u001b[39;00m draw(artist, renderer)\n\u001b[1;32m     73\u001b[0m \u001b[38;5;28;01mfinally\u001b[39;00m:\n\u001b[1;32m     74\u001b[0m     \u001b[38;5;28;01mif\u001b[39;00m artist\u001b[38;5;241m.\u001b[39mget_agg_filter() \u001b[38;5;129;01mis\u001b[39;00m \u001b[38;5;129;01mnot\u001b[39;00m \u001b[38;5;28;01mNone\u001b[39;00m:\n",
      "File \u001b[0;32m~/anaconda3/lib/python3.11/site-packages/matplotlib/axis.py:1383\u001b[0m, in \u001b[0;36mAxis.draw\u001b[0;34m(self, renderer, *args, **kwargs)\u001b[0m\n\u001b[1;32m   1380\u001b[0m     tick\u001b[38;5;241m.\u001b[39mdraw(renderer)\n\u001b[1;32m   1382\u001b[0m \u001b[38;5;66;03m# Shift label away from axes to avoid overlapping ticklabels.\u001b[39;00m\n\u001b[0;32m-> 1383\u001b[0m \u001b[38;5;28mself\u001b[39m\u001b[38;5;241m.\u001b[39m_update_label_position(renderer)\n\u001b[1;32m   1384\u001b[0m \u001b[38;5;28mself\u001b[39m\u001b[38;5;241m.\u001b[39mlabel\u001b[38;5;241m.\u001b[39mdraw(renderer)\n\u001b[1;32m   1386\u001b[0m \u001b[38;5;28mself\u001b[39m\u001b[38;5;241m.\u001b[39m_update_offset_text_position(tlb1, tlb2)\n",
      "File \u001b[0;32m~/anaconda3/lib/python3.11/site-packages/matplotlib/axis.py:2570\u001b[0m, in \u001b[0;36mYAxis._update_label_position\u001b[0;34m(self, renderer)\u001b[0m\n\u001b[1;32m   2568\u001b[0m \u001b[38;5;28;01mtry\u001b[39;00m:\n\u001b[1;32m   2569\u001b[0m     spine \u001b[38;5;241m=\u001b[39m \u001b[38;5;28mself\u001b[39m\u001b[38;5;241m.\u001b[39maxes\u001b[38;5;241m.\u001b[39mspines[\u001b[38;5;124m'\u001b[39m\u001b[38;5;124mleft\u001b[39m\u001b[38;5;124m'\u001b[39m]\n\u001b[0;32m-> 2570\u001b[0m     spinebbox \u001b[38;5;241m=\u001b[39m spine\u001b[38;5;241m.\u001b[39mget_window_extent()\n\u001b[1;32m   2571\u001b[0m \u001b[38;5;28;01mexcept\u001b[39;00m \u001b[38;5;167;01mKeyError\u001b[39;00m:\n\u001b[1;32m   2572\u001b[0m     \u001b[38;5;66;03m# use Axes if spine doesn't exist\u001b[39;00m\n\u001b[1;32m   2573\u001b[0m     spinebbox \u001b[38;5;241m=\u001b[39m \u001b[38;5;28mself\u001b[39m\u001b[38;5;241m.\u001b[39maxes\u001b[38;5;241m.\u001b[39mbbox\n",
      "File \u001b[0;32m~/anaconda3/lib/python3.11/site-packages/matplotlib/spines.py:158\u001b[0m, in \u001b[0;36mSpine.get_window_extent\u001b[0;34m(self, renderer)\u001b[0m\n\u001b[1;32m    156\u001b[0m     \u001b[38;5;28;01mreturn\u001b[39;00m bb\n\u001b[1;32m    157\u001b[0m bboxes \u001b[38;5;241m=\u001b[39m [bb]\n\u001b[0;32m--> 158\u001b[0m drawn_ticks \u001b[38;5;241m=\u001b[39m \u001b[38;5;28mself\u001b[39m\u001b[38;5;241m.\u001b[39maxis\u001b[38;5;241m.\u001b[39m_update_ticks()\n\u001b[1;32m    160\u001b[0m major_tick \u001b[38;5;241m=\u001b[39m \u001b[38;5;28mnext\u001b[39m(\u001b[38;5;28miter\u001b[39m({\u001b[38;5;241m*\u001b[39mdrawn_ticks} \u001b[38;5;241m&\u001b[39m {\u001b[38;5;241m*\u001b[39m\u001b[38;5;28mself\u001b[39m\u001b[38;5;241m.\u001b[39maxis\u001b[38;5;241m.\u001b[39mmajorTicks}), \u001b[38;5;28;01mNone\u001b[39;00m)\n\u001b[1;32m    161\u001b[0m minor_tick \u001b[38;5;241m=\u001b[39m \u001b[38;5;28mnext\u001b[39m(\u001b[38;5;28miter\u001b[39m({\u001b[38;5;241m*\u001b[39mdrawn_ticks} \u001b[38;5;241m&\u001b[39m {\u001b[38;5;241m*\u001b[39m\u001b[38;5;28mself\u001b[39m\u001b[38;5;241m.\u001b[39maxis\u001b[38;5;241m.\u001b[39mminorTicks}), \u001b[38;5;28;01mNone\u001b[39;00m)\n",
      "File \u001b[0;32m~/anaconda3/lib/python3.11/site-packages/matplotlib/axis.py:1270\u001b[0m, in \u001b[0;36mAxis._update_ticks\u001b[0;34m(self)\u001b[0m\n\u001b[1;32m   1268\u001b[0m     tick\u001b[38;5;241m.\u001b[39mset_label1(label)\n\u001b[1;32m   1269\u001b[0m     tick\u001b[38;5;241m.\u001b[39mset_label2(label)\n\u001b[0;32m-> 1270\u001b[0m minor_locs \u001b[38;5;241m=\u001b[39m \u001b[38;5;28mself\u001b[39m\u001b[38;5;241m.\u001b[39mget_minorticklocs()\n\u001b[1;32m   1271\u001b[0m minor_labels \u001b[38;5;241m=\u001b[39m \u001b[38;5;28mself\u001b[39m\u001b[38;5;241m.\u001b[39mminor\u001b[38;5;241m.\u001b[39mformatter\u001b[38;5;241m.\u001b[39mformat_ticks(minor_locs)\n\u001b[1;32m   1272\u001b[0m minor_ticks \u001b[38;5;241m=\u001b[39m \u001b[38;5;28mself\u001b[39m\u001b[38;5;241m.\u001b[39mget_minor_ticks(\u001b[38;5;28mlen\u001b[39m(minor_locs))\n",
      "File \u001b[0;32m~/anaconda3/lib/python3.11/site-packages/matplotlib/axis.py:1499\u001b[0m, in \u001b[0;36mAxis.get_minorticklocs\u001b[0;34m(self)\u001b[0m\n\u001b[1;32m   1496\u001b[0m     \u001b[38;5;66;03m# Use the transformed view limits as scale.  1e-5 is the default\u001b[39;00m\n\u001b[1;32m   1497\u001b[0m     \u001b[38;5;66;03m# rtol for np.isclose.\u001b[39;00m\n\u001b[1;32m   1498\u001b[0m     tol \u001b[38;5;241m=\u001b[39m (hi \u001b[38;5;241m-\u001b[39m lo) \u001b[38;5;241m*\u001b[39m \u001b[38;5;241m1e-5\u001b[39m\n\u001b[0;32m-> 1499\u001b[0m     mask \u001b[38;5;241m=\u001b[39m np\u001b[38;5;241m.\u001b[39misclose(tr_minor_locs[:, \u001b[38;5;28;01mNone\u001b[39;00m], tr_major_locs[\u001b[38;5;28;01mNone\u001b[39;00m, :],\n\u001b[1;32m   1500\u001b[0m                       atol\u001b[38;5;241m=\u001b[39mtol, rtol\u001b[38;5;241m=\u001b[39m\u001b[38;5;241m0\u001b[39m)\u001b[38;5;241m.\u001b[39many(axis\u001b[38;5;241m=\u001b[39m\u001b[38;5;241m1\u001b[39m)\n\u001b[1;32m   1501\u001b[0m     minor_locs \u001b[38;5;241m=\u001b[39m minor_locs[\u001b[38;5;241m~\u001b[39mmask]\n\u001b[1;32m   1502\u001b[0m \u001b[38;5;28;01mreturn\u001b[39;00m minor_locs\n",
      "File \u001b[0;32m<__array_function__ internals>:200\u001b[0m, in \u001b[0;36misclose\u001b[0;34m(*args, **kwargs)\u001b[0m\n",
      "File \u001b[0;32m~/anaconda3/lib/python3.11/site-packages/numpy/core/numeric.py:2380\u001b[0m, in \u001b[0;36misclose\u001b[0;34m(a, b, rtol, atol, equal_nan)\u001b[0m\n\u001b[1;32m   2378\u001b[0m yfin \u001b[38;5;241m=\u001b[39m isfinite(y)\n\u001b[1;32m   2379\u001b[0m \u001b[38;5;28;01mif\u001b[39;00m \u001b[38;5;28mall\u001b[39m(xfin) \u001b[38;5;129;01mand\u001b[39;00m \u001b[38;5;28mall\u001b[39m(yfin):\n\u001b[0;32m-> 2380\u001b[0m     \u001b[38;5;28;01mreturn\u001b[39;00m within_tol(x, y, atol, rtol)\n\u001b[1;32m   2381\u001b[0m \u001b[38;5;28;01melse\u001b[39;00m:\n\u001b[1;32m   2382\u001b[0m     finite \u001b[38;5;241m=\u001b[39m xfin \u001b[38;5;241m&\u001b[39m yfin\n",
      "File \u001b[0;32m~/anaconda3/lib/python3.11/site-packages/numpy/core/numeric.py:2360\u001b[0m, in \u001b[0;36misclose.<locals>.within_tol\u001b[0;34m(x, y, atol, rtol)\u001b[0m\n\u001b[1;32m   2359\u001b[0m \u001b[38;5;28;01mdef\u001b[39;00m \u001b[38;5;21mwithin_tol\u001b[39m(x, y, atol, rtol):\n\u001b[0;32m-> 2360\u001b[0m     \u001b[38;5;28;01mwith\u001b[39;00m errstate(invalid\u001b[38;5;241m=\u001b[39m\u001b[38;5;124m'\u001b[39m\u001b[38;5;124mignore\u001b[39m\u001b[38;5;124m'\u001b[39m), _no_nep50_warning():\n\u001b[1;32m   2361\u001b[0m         \u001b[38;5;28;01mreturn\u001b[39;00m less_equal(\u001b[38;5;28mabs\u001b[39m(x\u001b[38;5;241m-\u001b[39my), atol \u001b[38;5;241m+\u001b[39m rtol \u001b[38;5;241m*\u001b[39m \u001b[38;5;28mabs\u001b[39m(y))\n",
      "\u001b[0;31mKeyboardInterrupt\u001b[0m: "
     ]
    }
   ],
   "source": [
    "plt.figure(figsize=(12, 6))\n",
    "audio_features_merged['peak_position'].hist(bins=100, edgecolor='white')\n",
    "plt.title('Histogram of Peak Billboard Ranks')\n",
    "plt.xlabel('Rank')\n",
    "plt.ylabel('Count')\n",
    "plt.xlim(0.8,100)\n",
    "plt.show()"
   ]
  },
  {
   "cell_type": "markdown",
   "id": "4331cff1-818c-4fb8-84d5-1e5330a90930",
   "metadata": {},
   "source": [
    "Note: Rank 1 is the limit, resulting in the high count."
   ]
  },
  {
   "cell_type": "code",
   "execution_count": null,
   "id": "d143b088-37e8-4ad9-8636-890e239bf906",
   "metadata": {
    "tags": []
   },
   "outputs": [],
   "source": [
    "plt.figure(figsize=(12, 6))\n",
    "audio_features_merged['weeks_on_chart'].hist(bins=100, edgecolor='white')\n",
    "plt.title('Histogram of Billboard Duration')\n",
    "plt.xlabel('Weeks')\n",
    "plt.ylabel('Count')\n",
    "plt.xlim(0.8, audio_features_merged['weeks_on_chart'].max())\n",
    "plt.show()"
   ]
  },
  {
   "cell_type": "markdown",
   "id": "44ba2e15-31fb-4ec5-aa6e-d8ce2aa51a91",
   "metadata": {},
   "source": [
    "Note the outlier: week 20."
   ]
  },
  {
   "cell_type": "code",
   "execution_count": null,
   "id": "3c1acb4f-9dca-485e-97a5-bab7a5134598",
   "metadata": {
    "tags": []
   },
   "outputs": [],
   "source": [
    "audio_features_merged['weeks_on_chart'].value_counts().head(5)"
   ]
  },
  {
   "cell_type": "code",
   "execution_count": null,
   "id": "7e5e9378-34ef-4bb7-8432-099aa26a67bd",
   "metadata": {
    "tags": []
   },
   "outputs": [],
   "source": [
    "# sort by 'peak_position', then 'weeks_on_chart'\n",
    "top_10_tracks = audio_features_merged.sort_values(['peak_position', 'weeks_on_chart'], ascending=[True, False]).head(10)\n",
    "top_10_tracks"
   ]
  },
  {
   "cell_type": "code",
   "execution_count": null,
   "id": "080e3748-59e9-4a05-a912-1f81cbdf0335",
   "metadata": {
    "tags": []
   },
   "outputs": [],
   "source": [
    "plt.figure(figsize=(12, 6))\n",
    "title_artist = top_10_tracks['song'] + '\\n' + top_10_tracks['performer']\n",
    "plt.bar(title_artist, top_10_tracks['weeks_on_chart'])\n",
    "plt.title('The 10 Songs That Held Rank 1 the Longest')\n",
    "plt.xlabel('Songs')\n",
    "plt.ylabel('Weeks')\n",
    "plt.xticks(rotation=45, ha='right')\n",
    "plt.show()\n",
    "\n",
    "# fix title"
   ]
  },
  {
   "cell_type": "code",
   "execution_count": null,
   "id": "30d1b2fe-3289-489a-824f-77b2b55aefff",
   "metadata": {
    "tags": []
   },
   "outputs": [],
   "source": [
    "# sort by 'weeks_on_chart'\n",
    "top_10_tracks_by_duration = audio_features_merged.sort_values('weeks_on_chart', ascending=False).head(10)\n",
    "top_10_tracks_by_duration"
   ]
  },
  {
   "cell_type": "code",
   "execution_count": null,
   "id": "fd90b672-54c3-4591-a5dc-3efc5aa8d768",
   "metadata": {
    "tags": []
   },
   "outputs": [],
   "source": [
    "plt.figure(figsize=(12, 6))\n",
    "title_artist = top_10_tracks_by_duration['song'] + '\\n' + top_10_tracks_by_duration['performer']\n",
    "plt.bar(title_artist, top_10_tracks_by_duration['weeks_on_chart'])\n",
    "plt.title('The 10 Songs On the Hot100 the Longest')\n",
    "plt.xlabel('Songs')\n",
    "plt.ylabel('Weeks')\n",
    "plt.xticks(rotation=45, ha='right')\n",
    "plt.show()"
   ]
  },
  {
   "cell_type": "markdown",
   "id": "35e71289-7490-4e95-8c36-3f4a235b98a3",
   "metadata": {
    "tags": []
   },
   "source": [
    "# Spotify Audio Features Analysis"
   ]
  },
  {
   "cell_type": "code",
   "execution_count": null,
   "id": "eee997a1-8f8d-42e3-a48f-080e2bcc4f0c",
   "metadata": {
    "tags": []
   },
   "outputs": [],
   "source": [
    "audio_features_merged.dtypes"
   ]
  },
  {
   "cell_type": "code",
   "execution_count": null,
   "id": "c1218cbc-ced7-4854-bd38-21867a3f9a3f",
   "metadata": {
    "tags": []
   },
   "outputs": [],
   "source": [
    "audio_features_merged.isna().sum()"
   ]
  },
  {
   "cell_type": "markdown",
   "id": "f9ef8f80-05c7-49d4-8e61-7d2e1110bf82",
   "metadata": {},
   "source": [
    "5159 tracks don't have the audio features. Will drop for this section."
   ]
  },
  {
   "cell_type": "code",
   "execution_count": null,
   "id": "12f247fd-a950-44b9-a0ff-6c3d7addc6c8",
   "metadata": {
    "tags": []
   },
   "outputs": [],
   "source": [
    "# list of spotify audio features (values between 0-1)\n",
    "audio_features_list = ['danceability', 'energy', 'speechiness', 'acousticness', 'instrumentalness', 'liveness', 'valence']"
   ]
  },
  {
   "cell_type": "code",
   "execution_count": null,
   "id": "24d3f8bb-61f3-4df9-8548-f1a6e60a255c",
   "metadata": {
    "tags": []
   },
   "outputs": [],
   "source": [
    "# check if those 5159 tracks have NaN values for all audio_features columns\n",
    "audio_features_merged[audio_features_list].isna().all(axis=1).sum()"
   ]
  },
  {
   "cell_type": "code",
   "execution_count": null,
   "id": "0172a115-667b-4aba-8c14-5d981131e088",
   "metadata": {
    "tags": []
   },
   "outputs": [],
   "source": [
    "# drop rows where all audio feature columns are nan\n",
    "audio_features_subset = audio_features_merged.dropna(subset=audio_features_list, how='all')\n",
    "print(audio_features_subset.shape)\n",
    "audio_features_subset.isna().sum()"
   ]
  },
  {
   "cell_type": "markdown",
   "id": "de8000b2-eac8-4ca0-b710-e634b1dec2a3",
   "metadata": {
    "tags": []
   },
   "source": [
    "### Bell Curves"
   ]
  },
  {
   "cell_type": "code",
   "execution_count": null,
   "id": "c57bcb8c-f8c2-4f28-b499-f217b3efa631",
   "metadata": {
    "tags": []
   },
   "outputs": [],
   "source": [
    "# filter df to just audio features columns\n",
    "spotify_audio_features = audio_features_subset[audio_features_list]\n",
    "print(spotify_audio_features.shape)\n",
    "print(spotify_audio_features.columns)\n",
    "spotify_audio_features.describe()"
   ]
  },
  {
   "cell_type": "markdown",
   "id": "675875c3-4e8d-4d60-a5ae-9e4cb373bdce",
   "metadata": {},
   "source": [
    "Description of each feature copied from the Spotify API documentation:"
   ]
  },
  {
   "cell_type": "markdown",
   "id": "46321831-77f2-419a-83cb-d3a89f5bbd29",
   "metadata": {
    "tags": []
   },
   "source": [
    "| Feature          | Description                                                                                                                                               |\n",
    "|:-----------------|:-----------------------------------------------------------------------------------------------------------------------------------------------------------|\n",
    "| Danceability     | Danceability describes how suitable a track is for dancing based on a combination of musical elements including tempo, rhythm stability, beat strength, and overall regularity. A value of 0.0 is least danceable, and 1.0 is most danceable.|\n",
    "| Energy           | Energy is a measure from 0.0 to 1.0 and represents a perceptual measure of intensity and activity. Typically, energetic tracks feel fast, loud, and noisy. Perceptual features contributing to this attribute include dynamic range, perceived loudness, timbre, onset rate, and general entropy.|\n",
    "| Speechiness      | Speechiness detects the presence of spoken words in a track. The more exclusively speech-like the recording (e.g., talk show, audiobook, poetry), the closer to 1.0 the attribute value. Values above 0.66 describe tracks that are probably made entirely of spoken words. Values between 0.33 and 0.66 describe tracks that may contain both music and speech, either in sections or layered, including such cases as rap music. Values below 0.33 most likely represent music and other non-speech-like tracks.|\n",
    "| Acousticness     | Acousticness is a confidence measure from 0.0 to 1.0 of whether the track is acoustic. 1.0 represents high confidence that the track is acoustic.|\n",
    "| Instrumentalness | Instrumentalness predicts whether a track contains no vocals. \"Ooh\" and \"aah\" sounds are treated as instrumental in this context. Rap or spoken word tracks are clearly \"vocal\". The closer the instrumentalness value is to 1.0, the greater the likelihood the track contains no vocal content. Values above 0.5 are intended to represent instrumental tracks, but confidence is higher as the value approaches 1.0.|\n",
    "| Liveness         | Liveness detects the presence of an audience in the recording. Higher liveness values represent an increased probability that the track was performed live. A value above 0.8 provides a strong likelihood that the track is live.|\n",
    "| Valence          | Valence is a measure from 0.0 to 1.0 describing the musical positiveness conveyed by a track. Tracks with high valence sound more positive (e.g., happy, cheerful, euphoric), while tracks with low valence sound more negative (e.g., sad, depressed, angry).|\n"
   ]
  },
  {
   "cell_type": "code",
   "execution_count": null,
   "id": "f5dfea2a-19cc-43aa-bda2-59dbf42d88a1",
   "metadata": {
    "tags": []
   },
   "outputs": [],
   "source": [
    "from scipy.stats import norm\n",
    "\n",
    "plt.figure(figsize=(12, 8))\n",
    "\n",
    "# plot bell curve for each feature\n",
    "for feature in spotify_audio_features.columns:\n",
    "    x = np.linspace(spotify_audio_features[feature], spotify_audio_features[feature].max(), 100)\n",
    "    plt.plot(x, norm.pdf(x, spotify_audio_features[feature].mean(), spotify_audio_features[feature].std()), label=feature)\n",
    "\n",
    "plt.title('Bell Curves of Audio Features')\n",
    "plt.xlabel('Value')\n",
    "plt.ylabel('Density')\n",
    "\n",
    "plt.legend()\n",
    "plt.show()"
   ]
  },
  {
   "cell_type": "code",
   "execution_count": null,
   "id": "03cabc52-0b58-444d-b770-dedf2fbde845",
   "metadata": {
    "tags": []
   },
   "outputs": [],
   "source": [
    "plt.figure(figsize=(12, 8))\n",
    "   \n",
    "# plot histogram for each feature\n",
    "for feature in spotify_audio_features.columns:\n",
    "    sns.kdeplot(spotify_audio_features[feature], label=feature, linewidth=2, clip=(0,1))\n",
    "\n",
    "plt.title('Bell Curves of Audio Features')\n",
    "plt.xlabel('Value')\n",
    "plt.ylabel('Density')\n",
    "\n",
    "plt.legend()\n",
    "plt.show()"
   ]
  },
  {
   "cell_type": "code",
   "execution_count": null,
   "id": "f478058f-8c28-43a5-9b4b-038fd742b82b",
   "metadata": {
    "tags": []
   },
   "outputs": [],
   "source": [
    "# filter to tracks that hit rank 1\n",
    "top_tracks = audio_features_subset[audio_features_subset['peak_position'] == 1][audio_features_list]\n",
    "print(top_tracks.shape)\n",
    "top_tracks.head(5)"
   ]
  },
  {
   "cell_type": "code",
   "execution_count": null,
   "id": "83b097b2-4591-4854-b42e-df29f1da1055",
   "metadata": {
    "tags": []
   },
   "outputs": [],
   "source": [
    "plt.figure(figsize=(12, 8))\n",
    "\n",
    "# plot bell curve for each feature\n",
    "for feature in top_tracks.columns:\n",
    "    x = np.linspace(top_tracks[feature].min(), top_tracks[feature].max(), 100)\n",
    "    plt.plot(x, norm.pdf(x, top_tracks[feature].mean(), top_tracks[feature].std()), label=feature)\n",
    "\n",
    "plt.title('Audio Features of Rank 1 Tracks')\n",
    "plt.xlabel('Value')\n",
    "plt.ylabel('Density')\n",
    "\n",
    "plt.legend()\n",
    "plt.show()"
   ]
  },
  {
   "cell_type": "code",
   "execution_count": null,
   "id": "21b62b23-b5ee-4ece-9bd2-bd060d75e8ed",
   "metadata": {
    "tags": []
   },
   "outputs": [],
   "source": [
    "plt.figure(figsize=(12, 8))\n",
    "   \n",
    "# plot histogram for each feature\n",
    "for feature in top_tracks.columns:\n",
    "    sns.kdeplot(top_tracks[feature], label=feature, linewidth=2)\n",
    "\n",
    "plt.title('Audio Features of Rank 1 Tracks')\n",
    "plt.xlabel('Value')\n",
    "plt.ylabel('Density')\n",
    "\n",
    "plt.legend()\n",
    "plt.show()"
   ]
  },
  {
   "cell_type": "code",
   "execution_count": null,
   "id": "7df059dd-394b-467f-8f65-bd95a6c65e5a",
   "metadata": {
    "tags": []
   },
   "outputs": [],
   "source": [
    "# filter to tracks that didn't make it past rank 80\n",
    "bottom_tracks_subset = audio_features_merged[audio_features_merged['peak_position'] > 80][audio_features_list]\n",
    "bottom_tracks_subset.shape"
   ]
  },
  {
   "cell_type": "code",
   "execution_count": null,
   "id": "03da14c1-1015-4367-a2a3-328b0cd77ea7",
   "metadata": {
    "tags": []
   },
   "outputs": [],
   "source": [
    "plt.figure(figsize=(12, 8))\n",
    "\n",
    "# plot bell curve for each feature\n",
    "for feature in bottom_tracks_subset.columns:\n",
    "    x = np.linspace(bottom_tracks_subset[feature].min(), bottom_tracks_subset[feature].max(), 100)\n",
    "    plt.plot(x, norm.pdf(x, bottom_tracks_subset[feature].mean(), bottom_tracks_subset[feature].std()), label=feature)\n",
    "\n",
    "plt.title('Audio Features of Low Rank Tracks')\n",
    "plt.xlabel('Value')\n",
    "plt.ylabel('Density')\n",
    "\n",
    "plt.legend()\n",
    "plt.show()"
   ]
  },
  {
   "cell_type": "code",
   "execution_count": null,
   "id": "ddc68dab-1ae3-498e-a3d1-1e2c9fefb945",
   "metadata": {
    "tags": []
   },
   "outputs": [],
   "source": [
    "plt.figure(figsize=(12, 8))\n",
    "   \n",
    "# plot histogram for each feature\n",
    "for feature in bottom_tracks_subset.columns:\n",
    "    sns.kdeplot(bottom_tracks_subset[feature], label=feature, linewidth=2)\n",
    "\n",
    "plt.title('Audio Features of Low Rank Tracks')\n",
    "plt.xlabel('Value')\n",
    "plt.ylabel('Density')\n",
    "\n",
    "plt.legend()\n",
    "plt.show()"
   ]
  },
  {
   "cell_type": "raw",
   "id": "aee21502-91a5-49f3-95f2-ecaccba733f6",
   "metadata": {},
   "source": [
    "... both high and low rank tracks have similar features... "
   ]
  },
  {
   "cell_type": "markdown",
   "id": "8ea5e466-f96c-4e21-9007-6fc5f5711936",
   "metadata": {},
   "source": [
    "What about using popularity instead of rank?"
   ]
  },
  {
   "cell_type": "code",
   "execution_count": null,
   "id": "6f7bd17d-82d7-4cb2-a60a-9b957611a2f0",
   "metadata": {},
   "outputs": [],
   "source": [
    "# filter to tracks that didn't make it past rank 80\n",
    "bottom_tracks_subset = audio_features_merged[audio_features_merged['peak_position'] > 80][audio_features_list]\n",
    "bottom_tracks_subset.shape"
   ]
  },
  {
   "cell_type": "markdown",
   "id": "4fa95921-d5bb-4e28-81e9-a28381b00ac4",
   "metadata": {},
   "source": [
    "### Histograms"
   ]
  },
  {
   "cell_type": "code",
   "execution_count": null,
   "id": "23f772b4-4318-484e-b027-a0108432f8f0",
   "metadata": {
    "tags": []
   },
   "outputs": [],
   "source": [
    "fig, axes = plt.subplots(nrows=2, ncols=4, figsize=(15, 8))\n",
    "\n",
    "# flatten for indexing\n",
    "axes = axes.flatten()\n",
    "\n",
    "# iterate through audio features + popularity score\n",
    "for i, feature in enumerate(audio_features_list + ['spotify_track_popularity']):\n",
    "    axes[i].hist(audio_features_subset[feature], bins=100, color='#6495ED')\n",
    "    axes[i].set_title(feature)\n",
    "    axes[i].grid(True)\n",
    "\n",
    "plt.tight_layout()\n",
    "plt.suptitle('Histograms of Audio Features and Popularity', fontsize=16, y=1.05)\n",
    "plt.show()"
   ]
  },
  {
   "cell_type": "raw",
   "id": "dab3cda0-5916-484b-9589-25a4c450e9e8",
   "metadata": {},
   "source": [
    "How has audio features evolved over the years?"
   ]
  },
  {
   "cell_type": "code",
   "execution_count": null,
   "id": "51c103da-9e6c-4385-a96e-99d46b0236f9",
   "metadata": {
    "tags": []
   },
   "outputs": [],
   "source": [
    "# filter to tracks before 2000\n",
    "pre_2000_tracks = audio_features_merged[audio_features_merged['week_id'].dt.year < 2000][audio_features_list]\n",
    "pre_2000_tracks.shape"
   ]
  },
  {
   "cell_type": "code",
   "execution_count": null,
   "id": "9b7f9f90-d0d8-4d3c-9db2-5ad45b0b5b4b",
   "metadata": {
    "tags": []
   },
   "outputs": [],
   "source": [
    "import warnings\n",
    "warnings.filterwarnings(\"ignore\", category=FutureWarning)"
   ]
  },
  {
   "cell_type": "code",
   "execution_count": null,
   "id": "b7e68675-94e0-497e-84b8-64fd966617aa",
   "metadata": {
    "tags": []
   },
   "outputs": [],
   "source": [
    "plt.figure(figsize=(12, 8))\n",
    "\n",
    "# plot histogram for each feature\n",
    "for feature in pre_2000_tracks.columns:\n",
    "    sns.kdeplot(pre_2000_tracks[feature], label=feature, linewidth=2)\n",
    "\n",
    "plt.title('Audio Features of Pre-2000 Tracks')\n",
    "plt.xlabel('Value')\n",
    "plt.ylabel('Density')\n",
    "\n",
    "plt.legend()\n",
    "plt.show()"
   ]
  },
  {
   "cell_type": "code",
   "execution_count": null,
   "id": "a704a094-9d32-4c99-b4fe-317b7b5e8afa",
   "metadata": {
    "tags": []
   },
   "outputs": [],
   "source": [
    "fig, axes = plt.subplots(nrows=2, ncols=4, figsize=(15, 8))\n",
    "\n",
    "# flatten for indexing\n",
    "axes = axes.flatten()\n",
    "\n",
    "# iterate through audio features + popularity score\n",
    "for i, feature in enumerate(audio_features_list):\n",
    "    axes[i].hist(pre_2000_tracks[feature], bins=100, color='#6495ED')\n",
    "    axes[i].set_title(feature)\n",
    "    axes[i].grid(True)\n",
    "    \n",
    "# plot popularity scores for pre-2000 tracks\n",
    "axes[7].hist(audio_features_merged[audio_features_merged['week_id'].dt.year < 2000]['spotify_track_popularity'], bins=100, color='#6495ED')\n",
    "\n",
    "plt.tight_layout()\n",
    "plt.suptitle('Histograms of Audio Features and Popularity of Pre-2000 Tracks', fontsize=16, y=1.05)\n",
    "plt.show()"
   ]
  },
  {
   "cell_type": "code",
   "execution_count": null,
   "id": "f4504657-8eeb-4c77-bc4b-db8776e05920",
   "metadata": {
    "tags": []
   },
   "outputs": [],
   "source": [
    "# filter to tracks post 2000\n",
    "post_2000_tracks = audio_features_subset[audio_features_subset['week_id'].dt.year >= 2000][audio_features_list]\n",
    "post_2000_tracks.shape"
   ]
  },
  {
   "cell_type": "code",
   "execution_count": null,
   "id": "ee58154e-9665-4ee3-9686-f117d72a815d",
   "metadata": {
    "tags": []
   },
   "outputs": [],
   "source": [
    "plt.figure(figsize=(12, 8))\n",
    "\n",
    "# plot histogram for each feature\n",
    "for feature in post_2000_tracks.columns:\n",
    "    sns.kdeplot(post_2000_tracks[feature], label=feature, linewidth=2)\n",
    "\n",
    "plt.title('Audio Features of Post-2000 Tracks')\n",
    "plt.xlabel('Value')\n",
    "plt.ylabel('Density')\n",
    "\n",
    "plt.legend()\n",
    "plt.show()"
   ]
  },
  {
   "cell_type": "code",
   "execution_count": null,
   "id": "6d34fae2-bdde-4802-b714-16de2d9ae713",
   "metadata": {
    "tags": []
   },
   "outputs": [],
   "source": [
    "fig, axes = plt.subplots(nrows=2, ncols=4, figsize=(15, 8))\n",
    "\n",
    "# flatten for indexing\n",
    "axes = axes.flatten()\n",
    "\n",
    "# iterate through audio features + popularity score\n",
    "for i, feature in enumerate(post_2000_tracks):\n",
    "    axes[i].hist(post_2000_tracks[feature], bins=100, color='#6495ED')\n",
    "    axes[i].set_title(feature)\n",
    "    axes[i].grid(True)\n",
    "    \n",
    "# plot popularity scores for post-2000 tracks\n",
    "axes[7].hist(audio_features_merged[audio_features_merged['week_id'].dt.year >= 2000]['spotify_track_popularity'], bins=100, color='#6495ED')\n",
    "\n",
    "plt.tight_layout()\n",
    "plt.suptitle('Histograms of Audio Features and Popularity of Post-2000 Tracks', fontsize=16, y=1.05)\n",
    "plt.show()"
   ]
  },
  {
   "cell_type": "markdown",
   "id": "8ffa418e-f016-481e-ad44-eb88df550a90",
   "metadata": {},
   "source": [
    "### Seaborn Histplot Heatmaps"
   ]
  },
  {
   "cell_type": "raw",
   "id": "d8f8b7b7-71aa-4dfc-a724-dcb37feb3927",
   "metadata": {},
   "source": [
    "60,70,80,90,00,10,20"
   ]
  },
  {
   "cell_type": "code",
   "execution_count": null,
   "id": "a32be1b1-112d-4910-b6f8-eb5e8b240465",
   "metadata": {
    "tags": []
   },
   "outputs": [],
   "source": [
    "# add year column (I should've done this earlier...)\n",
    "audio_features_merged['year'] = audio_features_merged['week_id'].dt.year\n",
    "audio_features_subset = audio_features_merged.dropna(subset=audio_features_list, how='all')"
   ]
  },
  {
   "cell_type": "markdown",
   "id": "a394d132-deb5-464e-8240-cd6a02af6f00",
   "metadata": {},
   "source": [
    "When plotting heat map, inf error.<br>\n",
    "Ex. ValueError: autodetected range of [-inf, -0.005243055412371884] is not finite"
   ]
  },
  {
   "cell_type": "code",
   "execution_count": null,
   "id": "92ce904c-e5c3-4987-8fa9-8425ac81f9be",
   "metadata": {
    "tags": []
   },
   "outputs": [],
   "source": [
    "# why do i keep getting value error?\n",
    "for feature in audio_features_list:\n",
    "    non_finite_values = audio_features_subset[feature][~np.isfinite(audio_features_subset[feature])]\n",
    "\n",
    "    # print the non-finite values\n",
    "    print(\"Non-finite values in {}: {}\".format(feature, non_finite_values))"
   ]
  },
  {
   "cell_type": "code",
   "execution_count": null,
   "id": "5a0d2f76-bf6c-420f-b6d5-fb2722587842",
   "metadata": {
    "tags": []
   },
   "outputs": [],
   "source": [
    "non_finite_values = audio_features_subset['spotify_track_popularity'][~np.isfinite(audio_features_subset['spotify_track_popularity'])]\n",
    "print(f\"Non-finite values in spotify_track_popularity: {non_finite_values}\")"
   ]
  },
  {
   "cell_type": "code",
   "execution_count": null,
   "id": "54b85d20-f439-4aae-b55e-6b7074339cb3",
   "metadata": {
    "tags": []
   },
   "outputs": [],
   "source": [
    "audio_features_subset[audio_features_subset['spotify_track_popularity'].isna()]"
   ]
  },
  {
   "cell_type": "code",
   "execution_count": null,
   "id": "12f5c234-8c72-4f83-b132-0ca028c1abb2",
   "metadata": {
    "tags": []
   },
   "outputs": [],
   "source": [
    "# quick data clean using tunebat.com\n",
    "audio_features_subset.loc[20778, 'spotify_track_popularity'] = 1\n",
    "audio_features_subset.loc[26933, 'spotify_track_popularity'] = 41\n",
    "audio_features_subset.loc[27108, 'spotify_track_popularity'] = 17\n",
    "audio_features_subset.loc[27364, 'spotify_track_popularity'] = 28"
   ]
  },
  {
   "cell_type": "code",
   "execution_count": null,
   "id": "56d79da2-d04b-4309-ba32-d57dfaf2e345",
   "metadata": {
    "tags": []
   },
   "outputs": [],
   "source": [
    "non_finite_values = audio_features_subset['spotify_track_popularity'][~np.isfinite(audio_features_subset['spotify_track_popularity'])]\n",
    "print(f\"Non-finite values in spotify_track_popularity: {non_finite_values}\")"
   ]
  },
  {
   "cell_type": "code",
   "execution_count": null,
   "id": "49a84621-fe88-4a18-b393-ae446c8b114b",
   "metadata": {
    "tags": []
   },
   "outputs": [],
   "source": [
    "for feature in audio_features_list + ['spotify_track_popularity']:\n",
    "    feature_data = audio_features_subset[feature]\n",
    "    print(f\"Column: {feature}\")\n",
    "    print(f\"Min value: {feature_data.min()}\")\n",
    "    print(f\"Max value: {feature_data.max()}\")\n",
    "    print(f\"NaN values: {feature_data.isna().sum()}\")\n",
    "    print(f\"Inf values: {np.isinf(feature_data).sum()}\")\n",
    "    print(\"---\")"
   ]
  },
  {
   "cell_type": "code",
   "execution_count": null,
   "id": "8c65e2e1-53f3-4be6-8305-fcca172102a8",
   "metadata": {
    "tags": []
   },
   "outputs": [],
   "source": [
    "selected_feature = audio_features_list[1]\n",
    "\n",
    "plt.figure(figsize=(8, 5))\n",
    "\n",
    "# plot histogram\n",
    "sns.histplot(\n",
    "    data=audio_features_subset, x=\"year\", y=selected_feature,\n",
    "    bins=50, discrete=(True, False), log_scale=(False, True)\n",
    ")\n",
    "\n",
    "plt.title(f'Histogram of {selected_feature.capitalize()} Over Time')\n",
    "plt.show()"
   ]
  },
  {
   "cell_type": "code",
   "execution_count": null,
   "id": "4fd04154-d89d-4c56-a893-33c45f822183",
   "metadata": {
    "tags": []
   },
   "outputs": [],
   "source": [
    "selected_feature = audio_features_list[3]\n",
    "\n",
    "plt.figure(figsize=(8, 5))\n",
    "\n",
    "# plot histogram\n",
    "sns.histplot(\n",
    "    data=audio_features_subset, x=\"year\", y=selected_feature,\n",
    "    bins=50, discrete=(True, False), log_scale=(False, True)\n",
    ")\n",
    "\n",
    "plt.title(f'Histogram of {selected_feature.capitalize()} Over Time')\n",
    "plt.show()"
   ]
  },
  {
   "cell_type": "code",
   "execution_count": null,
   "id": "9e71b98a-7984-4447-952f-0c5eac03353e",
   "metadata": {
    "tags": []
   },
   "outputs": [],
   "source": [
    "selected_feature = audio_features_list[5]\n",
    "\n",
    "plt.figure(figsize=(8, 5))\n",
    "\n",
    "# plot histogram\n",
    "sns.histplot(\n",
    "    data=audio_features_subset, x=\"year\", y=selected_feature,\n",
    "    bins=50, discrete=(True, False), log_scale=(False, True)\n",
    ")\n",
    "\n",
    "plt.title(f'Histogram of {selected_feature.capitalize()} Over Time')\n",
    "plt.show()"
   ]
  },
  {
   "cell_type": "markdown",
   "id": "e03743af-1bcf-47b4-9a47-970f69fdcf16",
   "metadata": {},
   "source": [
    ".. only 3 out of 7 features work. popularity also doesn't work..."
   ]
  },
  {
   "cell_type": "code",
   "execution_count": null,
   "id": "8ef845ef-d36e-461b-8efd-07f9a4f6d593",
   "metadata": {
    "tags": []
   },
   "outputs": [],
   "source": [
    "error_features = ['danceability', 'speechiness', 'instrumentalness', 'valence', 'spotify_track_popularity']"
   ]
  },
  {
   "cell_type": "code",
   "execution_count": null,
   "id": "60257ec6-e70e-49c4-b072-7381159b08cd",
   "metadata": {
    "tags": []
   },
   "outputs": [],
   "source": [
    "fig, axes = plt.subplots(nrows=2, ncols=4, figsize=(15, 8))\n",
    "\n",
    "# flatten for indexing\n",
    "axes = axes.flatten()\n",
    "\n",
    "# iterate through audio features + popularity score\n",
    "for i, feature in enumerate(audio_features_list + ['spotify_track_popularity']):\n",
    "    sns.histplot(\n",
    "        data=audio_features_subset, x=\"year\", y=feature, bins=30, ax=axes[i])\n",
    "    axes[i].set_title(feature)\n",
    "\n",
    "plt.tight_layout()\n",
    "plt.suptitle('Bivariate Histograms of Audio Features Over Time', fontsize=16, y=1.05)\n",
    "plt.show()"
   ]
  },
  {
   "cell_type": "markdown",
   "id": "3a563cbf-391d-4dd4-8aac-1b92eeba7a69",
   "metadata": {
    "tags": []
   },
   "source": [
    "error fixed when i deleted discrete and log_scale parameters used in documentation..."
   ]
  },
  {
   "cell_type": "raw",
   "id": "66e29aab-685f-4df8-b431-abd975009584",
   "metadata": {},
   "source": [
    "The next 4 are mostly chat-gpt... will edit later :/"
   ]
  },
  {
   "cell_type": "code",
   "execution_count": null,
   "id": "18e0c37e-529e-4188-b83b-2b1d6c602c99",
   "metadata": {
    "tags": []
   },
   "outputs": [],
   "source": [
    "'''Bell Curve of Audio Features Over the Decades'''\n",
    "\n",
    "import matplotlib.cm as cm\n",
    "\n",
    "# Define the audio features for which you want to plot bell curves\n",
    "audio_features_list = ['danceability', 'energy', 'speechiness', 'acousticness', 'instrumentalness', 'liveness', 'valence', 'spotify_track_popularity']\n",
    "\n",
    "# Create subplots with 4 rows and 2 columns\n",
    "fig, axes = plt.subplots(nrows=4, ncols=2, figsize=(10, 2 * len(audio_features_list)))\n",
    "\n",
    "# Flatten the axes for easier indexing\n",
    "axes = axes.flatten()\n",
    "\n",
    "# Define the colormap (use 'Blues' for a blue theme)\n",
    "colormap = cm.Blues\n",
    "\n",
    "# Iterate through each audio feature\n",
    "for i, feature in enumerate(audio_features_list):\n",
    "    # Plot the bell curve for each decade\n",
    "    for j, decade in enumerate(range(audio_features_subset['year'].min() // 10 * 10, audio_features_subset['year'].max() // 10 * 10 + 10, 10)):\n",
    "        data_subset = audio_features_subset[(audio_features_subset['year'] >= decade) & (audio_features_subset['year'] < decade + 10)]\n",
    "\n",
    "        # Fit a normal distribution to the data\n",
    "        mu, std = norm.fit(data_subset[feature])\n",
    "\n",
    "        # Generate x values for the PDF\n",
    "        x = np.linspace(data_subset[feature].min(), data_subset[feature].max(), 100)\n",
    "        # Calculate the PDF using the fitted parameters\n",
    "        pdf = norm.pdf(x, mu, std)\n",
    "\n",
    "        # Plot the PDF on the corresponding subplot with colormap\n",
    "        axes[i].plot(x, pdf, label=f'{decade}s', color=colormap(j / len(range(audio_features_subset[\"year\"].min(), audio_features_subset[\"year\"].max(), 10))))\n",
    "\n",
    "    # Set plot labels and title\n",
    "    axes[i].set_title(feature.capitalize())\n",
    "    axes[i].set_xlabel(feature)\n",
    "    axes[i].set_ylabel('Probability Density')\n",
    "    axes[i].legend()\n",
    "\n",
    "# Adjust layout\n",
    "plt.suptitle('Bell Curve of Audio Features Over the Decades', fontsize=16, y=1)\n",
    "plt.tight_layout()\n",
    "plt.show()\n"
   ]
  },
  {
   "cell_type": "code",
   "execution_count": null,
   "id": "9f718e1f-79bb-4988-a2e5-6c503042934d",
   "metadata": {
    "tags": []
   },
   "outputs": [],
   "source": [
    "'''Bell Curve of Audio Features Over the Decades'''\n",
    "\n",
    "# Define the audio features for which you want to plot bell curves\n",
    "audio_features_list = ['danceability', 'energy', 'speechiness', 'acousticness', 'instrumentalness', 'liveness', 'valence', 'spotify_track_popularity']\n",
    "\n",
    "# Create subplots with 4 rows and 2 columns\n",
    "fig, axes = plt.subplots(nrows=4, ncols=2, figsize=(10, 2 * len(audio_features_list)))\n",
    "\n",
    "# Flatten the axes for easier indexing\n",
    "axes = axes.flatten()\n",
    "\n",
    "# Define the colormap (use 'Blues' for a blue theme)\n",
    "colormap = cm.Blues\n",
    "\n",
    "# Iterate through each audio feature\n",
    "for i, feature in enumerate(audio_features_list):\n",
    "    # Plot the KDE plot for each decade\n",
    "    for j, decade in enumerate(range(audio_features_subset['year'].min() // 10 * 10, audio_features_subset['year'].max() // 10 * 10 + 10, 10)):\n",
    "        data_subset = audio_features_subset[(audio_features_subset['year'] >= decade) & (audio_features_subset['year'] < decade + 10)]\n",
    "\n",
    "        # Plot the KDE plot on the corresponding subplot with colormap\n",
    "        sns.kdeplot(data=data_subset[feature], ax=axes[i], label=f'{decade}s', color=colormap(j / len(range(audio_features_subset[\"year\"].min(), audio_features_subset[\"year\"].max(), 10))))\n",
    "\n",
    "    # Set plot labels and title\n",
    "    axes[i].set_title(feature.capitalize())\n",
    "    axes[i].set_xlabel('Value')\n",
    "    axes[i].set_ylabel('Probability Density')\n",
    "    axes[i].legend()\n",
    "\n",
    "# Adjust layout\n",
    "plt.suptitle('KDE Plot of Audio Features Over the Decades', fontsize=16, y=1)\n",
    "plt.tight_layout()\n",
    "plt.show()\n"
   ]
  },
  {
   "cell_type": "code",
   "execution_count": null,
   "id": "11974c1b-820e-4822-8f94-a9106e243146",
   "metadata": {
    "tags": []
   },
   "outputs": [],
   "source": [
    "'''Bell Curve of Audio Features By Popularity'''\n",
    "\n",
    "# Define the audio features for which you want to plot bell curves\n",
    "audio_features_list = ['danceability', 'energy', 'speechiness', 'acousticness', 'instrumentalness', 'liveness', 'valence', 'spotify_track_popularity']\n",
    "\n",
    "# Create subplots with 4 rows and 2 columns\n",
    "fig, axes = plt.subplots(nrows=4, ncols=2, figsize=(10, 2 * len(audio_features_list)))\n",
    "\n",
    "# Flatten the axes for easier indexing\n",
    "axes = axes.flatten()\n",
    "\n",
    "# Define the colormap (use 'Blues' for a blue theme)\n",
    "colormap = cm.Blues\n",
    "\n",
    "# Define the popularity ranges\n",
    "popularity_ranges = [(i, i + 10) for i in range(0, 100, 10)]\n",
    "\n",
    "# Iterate through each audio feature\n",
    "for i, feature in enumerate(audio_features_list):\n",
    "    # Plot the bell curve for each popularity range\n",
    "    for j, (lower, upper) in enumerate(popularity_ranges):\n",
    "        data_subset = audio_features_subset[(audio_features_subset['spotify_track_popularity'] >= lower) & (audio_features_subset['spotify_track_popularity'] < upper)]\n",
    "\n",
    "        # Exclude NaN values from the data\n",
    "        data_subset = data_subset[~data_subset[feature].isna()]\n",
    "\n",
    "        # Check if the data_subset is not empty\n",
    "        if not data_subset.empty:\n",
    "            # Fit a normal distribution to the data\n",
    "            mu, std = norm.fit(data_subset[feature])\n",
    "\n",
    "            # Generate x values for the PDF\n",
    "            x = np.linspace(data_subset[feature].min(), data_subset[feature].max(), 100)\n",
    "            # Calculate the PDF using the fitted parameters\n",
    "            pdf = norm.pdf(x, mu, std)\n",
    "\n",
    "            # Plot the PDF on the corresponding subplot with colormap\n",
    "            axes[i].plot(x, pdf, label=f'{lower}-{upper}', color=colormap(j / len(popularity_ranges)))\n",
    "\n",
    "    # Set plot labels and title\n",
    "    axes[i].set_title(feature.capitalize())\n",
    "    axes[i].set_xlabel('Popularity')\n",
    "    axes[i].set_ylabel('Probability Density')\n",
    "    axes[i].legend()\n",
    "\n",
    "# Adjust layout\n",
    "plt.suptitle('Bell Curve of Audio Features By Popularity', fontsize=16, y=1)\n",
    "plt.tight_layout()\n",
    "plt.show()"
   ]
  },
  {
   "cell_type": "code",
   "execution_count": null,
   "id": "35aab4cf-8b8b-4b37-a9d9-84b184a199ba",
   "metadata": {
    "tags": []
   },
   "outputs": [],
   "source": [
    "'''KDE Plot of Audio Features By Popularity'''\n",
    "\n",
    "# Define the audio features for which you want to plot KDE curves\n",
    "audio_features_list = ['danceability', 'energy', 'speechiness', 'acousticness', 'instrumentalness', 'liveness', 'valence', 'spotify_track_popularity']\n",
    "\n",
    "# Create subplots with 4 rows and 2 columns\n",
    "fig, axes = plt.subplots(nrows=4, ncols=2, figsize=(10, 2 * len(audio_features_list)))\n",
    "\n",
    "# Flatten the axes for easier indexing\n",
    "axes = axes.flatten()\n",
    "\n",
    "# Define the colormap (use 'Blues' for a blue theme)\n",
    "colormap = cm.Blues\n",
    "\n",
    "# Define the popularity ranges\n",
    "popularity_ranges = [(i, i + 10) for i in range(0, 100, 10)]\n",
    "\n",
    "# Iterate through each audio feature\n",
    "for i, feature in enumerate(audio_features_list):\n",
    "    # Plot the KDE curve for each popularity range\n",
    "    for j, (lower, upper) in enumerate(popularity_ranges):\n",
    "        data_subset = audio_features_subset[(audio_features_subset['spotify_track_popularity'] >= lower) & (audio_features_subset['spotify_track_popularity'] < upper)]\n",
    "\n",
    "        # Exclude NaN values from the data\n",
    "        data_subset = data_subset[~data_subset[feature].isna()]\n",
    "\n",
    "        # Check if the data_subset is not empty\n",
    "        if not data_subset.empty:\n",
    "            # Plot the KDE on the corresponding subplot with colormap\n",
    "            sns.kdeplot(data=data_subset[feature], ax=axes[i], label=f'{lower}-{upper}', color=colormap(j / len(popularity_ranges)))\n",
    "\n",
    "    # Set plot labels and title\n",
    "    axes[i].set_title(feature.capitalize())\n",
    "    axes[i].set_xlabel('Popularity')\n",
    "    axes[i].set_ylabel('Density')\n",
    "    axes[i].legend()\n",
    "\n",
    "# Adjust layout\n",
    "plt.suptitle('KDE Plot of Audio Features By Popularity', fontsize=16, y=1)\n",
    "plt.tight_layout()\n",
    "plt.show()\n"
   ]
  },
  {
   "cell_type": "code",
   "execution_count": null,
   "id": "fadf378e-725d-4e3e-a52f-9a53b0503e1c",
   "metadata": {
    "tags": []
   },
   "outputs": [],
   "source": [
    "# billboard\n",
    "# genre - top 10"
   ]
  },
  {
   "cell_type": "code",
   "execution_count": null,
   "id": "87ab218c-4ed0-4bd2-a8eb-58d7cbbfa815",
   "metadata": {
    "tags": []
   },
   "outputs": [],
   "source": [
    "'''KDE Plot of Audio Features By Billboard Ranking'''\n",
    "\n",
    "# Define the audio features for which you want to plot KDE curves\n",
    "audio_features_list = ['danceability', 'energy', 'speechiness', 'acousticness', 'instrumentalness', 'liveness', 'valence', 'spotify_track_popularity']\n",
    "\n",
    "# Create subplots with 4 rows and 2 columns\n",
    "fig, axes = plt.subplots(nrows=4, ncols=2, figsize=(10, 2 * len(audio_features_list)))\n",
    "\n",
    "# Flatten the axes for easier indexing\n",
    "axes = axes.flatten()\n",
    "\n",
    "# Define the colormap (use 'Blues' for a blue theme)\n",
    "colormap = cm.Blues\n",
    "\n",
    "# Define the popularity ranges\n",
    "billboard_ranges = [(i, i + 10) for i in range(0, 100, 10)]\n",
    "\n",
    "# Iterate through each audio feature\n",
    "for i, feature in enumerate(audio_features_list):\n",
    "    # Plot the KDE curve for each billboard ranking range\n",
    "    for j, (lower, upper) in enumerate(billboard_ranges):\n",
    "        data_subset = audio_features_subset[(audio_features_subset['peak_position'] >= lower) & (audio_features_subset['peak_position'] < upper)]\n",
    "\n",
    "        # Exclude NaN values from the data\n",
    "        data_subset = data_subset[~data_subset[feature].isna()]\n",
    "\n",
    "        # Check if the data_subset is not empty\n",
    "        if not data_subset.empty:\n",
    "            # Plot the KDE on the corresponding subplot with colormap\n",
    "            sns.kdeplot(data=data_subset[feature], ax=axes[i], label=f'{lower}-{upper}', color=colormap(j / len(popularity_ranges)))\n",
    "\n",
    "    # Set plot labels and title\n",
    "    axes[i].set_title(feature.capitalize())\n",
    "    axes[i].set_xlabel('Ranking')\n",
    "    axes[i].set_ylabel('Density')\n",
    "    axes[i].legend()\n",
    "\n",
    "# Adjust layout\n",
    "plt.suptitle('KDE Plot of Audio Features By Billboard Ranking', fontsize=16, y=1)\n",
    "plt.tight_layout()\n",
    "plt.show()\n"
   ]
  }
 ],
 "metadata": {
  "kernelspec": {
   "display_name": "Python 3 (ipykernel)",
   "language": "python",
   "name": "python3"
  },
  "language_info": {
   "codemirror_mode": {
    "name": "ipython",
    "version": 3
   },
   "file_extension": ".py",
   "mimetype": "text/x-python",
   "name": "python",
   "nbconvert_exporter": "python",
   "pygments_lexer": "ipython3",
   "version": "3.11.4"
  }
 },
 "nbformat": 4,
 "nbformat_minor": 5
}
