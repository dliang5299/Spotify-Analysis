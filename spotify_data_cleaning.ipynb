{
 "cells": [
  {
   "cell_type": "markdown",
   "id": "3dbdb023-f0c0-400c-85a6-8c1ca47d8f84",
   "metadata": {
    "tags": []
   },
   "source": [
    "# Spotify-2023 dataset cleaning"
   ]
  },
  {
   "cell_type": "code",
   "execution_count": 1,
   "id": "d3e17f12-7750-48ef-a1a8-72a9badaebad",
   "metadata": {
    "tags": []
   },
   "outputs": [],
   "source": [
    "# Import libraries\n",
    "import numpy as np\n",
    "import pandas as pd\n",
    "\n",
    "# Load data\n",
    "spotify_df = pd.read_csv(\"spotify-2023.csv\", encoding_errors='replace', header=0)"
   ]
  },
  {
   "cell_type": "code",
   "execution_count": 2,
   "id": "15f742ed-0b71-44e9-a763-c2d8d3c13318",
   "metadata": {
    "tags": []
   },
   "outputs": [
    {
     "data": {
      "text/plain": [
       "Index(['track_name', 'artist(s)_name', 'artist_count', 'released_year',\n",
       "       'released_month', 'released_day', 'in_spotify_playlists',\n",
       "       'in_spotify_charts', 'streams', 'in_apple_playlists', 'in_apple_charts',\n",
       "       'in_deezer_playlists', 'in_deezer_charts', 'in_shazam_charts', 'bpm',\n",
       "       'key', 'mode', 'danceability_%', 'valence_%', 'energy_%',\n",
       "       'acousticness_%', 'instrumentalness_%', 'liveness_%', 'speechiness_%'],\n",
       "      dtype='object')"
      ]
     },
     "execution_count": 2,
     "metadata": {},
     "output_type": "execute_result"
    }
   ],
   "source": [
    "spotify_df.columns"
   ]
  },
  {
   "cell_type": "code",
   "execution_count": 3,
   "id": "f91ade2d-1a05-4b97-82ea-4d51fa65db03",
   "metadata": {
    "tags": []
   },
   "outputs": [
    {
     "data": {
      "text/plain": [
       "(953, 24)"
      ]
     },
     "execution_count": 3,
     "metadata": {},
     "output_type": "execute_result"
    }
   ],
   "source": [
    "spotify_df.shape"
   ]
  },
  {
   "cell_type": "markdown",
   "id": "7d5b4d12-6869-4286-a369-71f12eb6ebf1",
   "metadata": {
    "jp-MarkdownHeadingCollapsed": true,
    "tags": []
   },
   "source": [
    "### Fixing errors with the track and artist names"
   ]
  },
  {
   "cell_type": "markdown",
   "id": "18b3136d-2ba8-4f05-9419-89013d9089a4",
   "metadata": {
    "tags": []
   },
   "source": [
    "Count 'track_name' entries with errors"
   ]
  },
  {
   "cell_type": "code",
   "execution_count": 4,
   "id": "2a3cf197-c114-4f86-9771-7b922b979b8e",
   "metadata": {
    "tags": []
   },
   "outputs": [
    {
     "data": {
      "text/plain": [
       "70"
      ]
     },
     "execution_count": 4,
     "metadata": {},
     "output_type": "execute_result"
    }
   ],
   "source": [
    "spotify_df['track_name'].str.contains('�|ý').sum()"
   ]
  },
  {
   "cell_type": "code",
   "execution_count": 5,
   "id": "a5ad0dbd-7fc5-4ad5-a212-b81708689358",
   "metadata": {
    "tags": []
   },
   "outputs": [
    {
     "data": {
      "text/plain": [
       "70"
      ]
     },
     "execution_count": 5,
     "metadata": {},
     "output_type": "execute_result"
    }
   ],
   "source": [
    "spotify_df['track_name'].str.contains('[^a-zA-Z0-9\\s():\"\\'\\.,&!?#|$+\\[\\]/_-]', regex=True).sum()"
   ]
  },
  {
   "cell_type": "markdown",
   "id": "3d61320c-9148-4525-955c-4374e4f4d7d5",
   "metadata": {
    "tags": []
   },
   "source": [
    "Count 'artist(s)_name' entries with errors"
   ]
  },
  {
   "cell_type": "code",
   "execution_count": 6,
   "id": "a9816a52-5b5f-4f10-94ab-49551c5bf33a",
   "metadata": {
    "tags": []
   },
   "outputs": [
    {
     "data": {
      "text/plain": [
       "48"
      ]
     },
     "execution_count": 6,
     "metadata": {},
     "output_type": "execute_result"
    }
   ],
   "source": [
    "spotify_df['artist(s)_name'].str.contains('�').sum()"
   ]
  },
  {
   "cell_type": "code",
   "execution_count": 7,
   "id": "32da1f03-8cb6-42ba-9e9e-a4173bbe568e",
   "metadata": {
    "tags": []
   },
   "outputs": [
    {
     "data": {
      "text/plain": [
       "48"
      ]
     },
     "execution_count": 7,
     "metadata": {},
     "output_type": "execute_result"
    }
   ],
   "source": [
    "spotify_df['artist(s)_name'].str.contains('[^a-zA-Z0-9\\s():\"\\'\\.,&!?#|$+\\[\\]/_-]', regex=True).sum()"
   ]
  },
  {
   "cell_type": "markdown",
   "id": "0698f95e-39c8-48e2-9d36-4e339a508c3c",
   "metadata": {},
   "source": [
    "Manually cleaned the track and artist(s) names with unknown characters.<br>\n",
    "Diacritics (or accent marks) such as é or ñ will be removed since they seem to be the cause of many of the errors.<br>\n",
    "Saved as \"spotify_2023_cleaned.csv\""
   ]
  },
  {
   "cell_type": "code",
   "execution_count": 8,
   "id": "6dc43eea-9f8a-4df4-b803-ab79b3e798e9",
   "metadata": {
    "tags": []
   },
   "outputs": [],
   "source": [
    "# Load cleaned data\n",
    "spotify_clean_df = pd.read_csv(\"spotify_2023_cleaned.csv\", encoding_errors='replace', header=0)"
   ]
  },
  {
   "cell_type": "code",
   "execution_count": 9,
   "id": "ce67f27d-e39a-4218-b103-29471e19b604",
   "metadata": {
    "tags": []
   },
   "outputs": [
    {
     "data": {
      "text/plain": [
       "0"
      ]
     },
     "execution_count": 9,
     "metadata": {},
     "output_type": "execute_result"
    }
   ],
   "source": [
    "spotify_clean_df['track_name'].str.contains('[^a-zA-Z0-9\\s():\"\\'\\.,&!?#|$+\\[\\]/_*-]', regex=True).sum()"
   ]
  },
  {
   "cell_type": "code",
   "execution_count": 10,
   "id": "ff36ad48-d875-4248-9707-092a032e3b49",
   "metadata": {
    "tags": []
   },
   "outputs": [
    {
     "data": {
      "text/plain": [
       "0"
      ]
     },
     "execution_count": 10,
     "metadata": {},
     "output_type": "execute_result"
    }
   ],
   "source": [
    "spotify_clean_df['track_name'].str.contains('�|ý').sum()"
   ]
  },
  {
   "cell_type": "code",
   "execution_count": 11,
   "id": "7558fc62-cd86-4ddd-a0b6-592df4cc31ce",
   "metadata": {
    "tags": []
   },
   "outputs": [
    {
     "data": {
      "text/plain": [
       "0"
      ]
     },
     "execution_count": 11,
     "metadata": {},
     "output_type": "execute_result"
    }
   ],
   "source": [
    "spotify_clean_df['artist(s)_name'].str.contains('[^a-zA-Z0-9\\s():\"\\'\\.,&!?#|$+\\[\\]/_*-]', regex=True).sum()"
   ]
  },
  {
   "cell_type": "code",
   "execution_count": 12,
   "id": "04d35ead-055d-4fa2-8e5d-d6461f980be0",
   "metadata": {
    "tags": []
   },
   "outputs": [
    {
     "data": {
      "text/plain": [
       "0"
      ]
     },
     "execution_count": 12,
     "metadata": {},
     "output_type": "execute_result"
    }
   ],
   "source": [
    "spotify_clean_df['artist(s)_name'].str.contains('�').sum()"
   ]
  },
  {
   "cell_type": "markdown",
   "id": "57f5a270-69c5-467f-865d-544e5d727515",
   "metadata": {
    "jp-MarkdownHeadingCollapsed": true,
    "tags": []
   },
   "source": [
    "### Fixing the 'key' column"
   ]
  },
  {
   "cell_type": "markdown",
   "id": "c7dd1760-91d1-40a9-8ed3-f671e9cb7908",
   "metadata": {
    "tags": []
   },
   "source": [
    "Some of the tracks have a blank key."
   ]
  },
  {
   "cell_type": "code",
   "execution_count": 13,
   "id": "c8fdd220-abeb-401d-b695-f2772f5aa28d",
   "metadata": {
    "tags": []
   },
   "outputs": [
    {
     "data": {
      "text/plain": [
       "key\n",
       "C#    120\n",
       "G      96\n",
       "G#     91\n",
       "F      89\n",
       "B      81\n",
       "D      81\n",
       "A      75\n",
       "F#     73\n",
       "E      62\n",
       "A#     57\n",
       "D#     33\n",
       "Name: count, dtype: int64"
      ]
     },
     "execution_count": 13,
     "metadata": {},
     "output_type": "execute_result"
    }
   ],
   "source": [
    "spotify_df['key'].value_counts()"
   ]
  },
  {
   "cell_type": "markdown",
   "id": "bf34c73d-b844-4a85-b9f6-a285e4bb4c8f",
   "metadata": {},
   "source": [
    "There are no tracks with the key of C, which is highly unlikely."
   ]
  },
  {
   "cell_type": "code",
   "execution_count": 14,
   "id": "d21e1136-7990-4746-9a02-884e6ee509b7",
   "metadata": {
    "tags": []
   },
   "outputs": [
    {
     "data": {
      "text/plain": [
       "95"
      ]
     },
     "execution_count": 14,
     "metadata": {},
     "output_type": "execute_result"
    }
   ],
   "source": [
    "spotify_df['key'].isna().sum()"
   ]
  },
  {
   "cell_type": "markdown",
   "id": "d72e27a0-f78f-4a46-b7bd-abbf97dd2094",
   "metadata": {},
   "source": [
    "After searching the tracks with empty keys on tunebat, was able to conclude that these songs were all in the key of C."
   ]
  },
  {
   "cell_type": "code",
   "execution_count": 15,
   "id": "f2c994c1-24d2-42a1-b2cb-bb00e9e790cc",
   "metadata": {
    "tags": []
   },
   "outputs": [],
   "source": [
    "spotify_clean_df['key'] = spotify_clean_df['key'].fillna('C')"
   ]
  },
  {
   "cell_type": "code",
   "execution_count": 16,
   "id": "d71376e2-896c-4351-bc98-db03f4ec37e8",
   "metadata": {
    "tags": []
   },
   "outputs": [
    {
     "data": {
      "text/plain": [
       "0"
      ]
     },
     "execution_count": 16,
     "metadata": {},
     "output_type": "execute_result"
    }
   ],
   "source": [
    "spotify_clean_df['key'].isna().sum()"
   ]
  },
  {
   "cell_type": "code",
   "execution_count": 17,
   "id": "8b75e0ca-3660-497f-a00b-0bd16f528d5e",
   "metadata": {
    "tags": []
   },
   "outputs": [
    {
     "data": {
      "text/plain": [
       "key\n",
       "C#    120\n",
       "G      96\n",
       "C      95\n",
       "G#     91\n",
       "F      89\n",
       "B      81\n",
       "D      81\n",
       "A      75\n",
       "F#     73\n",
       "E      62\n",
       "A#     57\n",
       "D#     33\n",
       "Name: count, dtype: int64"
      ]
     },
     "execution_count": 17,
     "metadata": {},
     "output_type": "execute_result"
    }
   ],
   "source": [
    "spotify_clean_df['key'].value_counts()"
   ]
  },
  {
   "cell_type": "code",
   "execution_count": 19,
   "id": "152b17f4-9b9a-41b8-a949-e9a15f4834fd",
   "metadata": {
    "tags": []
   },
   "outputs": [
    {
     "data": {
      "text/plain": [
       "track_name               0\n",
       "artist(s)_name           0\n",
       "artist_count             0\n",
       "released_year            0\n",
       "released_month           0\n",
       "released_day             0\n",
       "in_spotify_playlists     0\n",
       "in_spotify_charts        0\n",
       "streams                  0\n",
       "in_apple_playlists       0\n",
       "in_apple_charts          0\n",
       "in_deezer_playlists      0\n",
       "in_deezer_charts         0\n",
       "in_shazam_charts        50\n",
       "bpm                      0\n",
       "key                      0\n",
       "mode                     0\n",
       "danceability_%           0\n",
       "valence_%                0\n",
       "energy_%                 0\n",
       "acousticness_%           0\n",
       "instrumentalness_%       0\n",
       "liveness_%               0\n",
       "speechiness_%            0\n",
       "dtype: int64"
      ]
     },
     "execution_count": 19,
     "metadata": {},
     "output_type": "execute_result"
    }
   ],
   "source": [
    "spotify_clean_df.isna().sum()"
   ]
  },
  {
   "cell_type": "markdown",
   "id": "e06ecd9b-d6ab-43bf-946d-f4c0c177df50",
   "metadata": {},
   "source": [
    "The dataset is ready to use."
   ]
  },
  {
   "cell_type": "code",
   "execution_count": 18,
   "id": "29a07447-c77a-410b-9b4b-fd0d5f2811e9",
   "metadata": {
    "tags": []
   },
   "outputs": [],
   "source": [
    "spotify_clean_df.to_csv('spotify_2023_cleaned.csv', index=False)"
   ]
  }
 ],
 "metadata": {
  "kernelspec": {
   "display_name": "Python 3 (ipykernel)",
   "language": "python",
   "name": "python3"
  },
  "language_info": {
   "codemirror_mode": {
    "name": "ipython",
    "version": 3
   },
   "file_extension": ".py",
   "mimetype": "text/x-python",
   "name": "python",
   "nbconvert_exporter": "python",
   "pygments_lexer": "ipython3",
   "version": "3.11.4"
  }
 },
 "nbformat": 4,
 "nbformat_minor": 5
}
