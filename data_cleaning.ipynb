{
 "cells": [
  {
   "cell_type": "markdown",
   "id": "3dbdb023-f0c0-400c-85a6-8c1ca47d8f84",
   "metadata": {},
   "source": [
    "# Project 2 Proposal Exploration\n",
    "\n",
    "This notebook contains the cleaning and processing of the spotify-2023.csv dataset."
   ]
  },
  {
   "cell_type": "code",
   "execution_count": 89,
   "id": "d3e17f12-7750-48ef-a1a8-72a9badaebad",
   "metadata": {
    "tags": []
   },
   "outputs": [],
   "source": [
    "# Import libraries\n",
    "import numpy as np\n",
    "import pandas as pd\n",
    "\n",
    "# Load data\n",
    "spotify_df = pd.read_csv(\"spotify-2023.csv\", encoding_errors='replace', header=0)"
   ]
  },
  {
   "cell_type": "code",
   "execution_count": 90,
   "id": "15f742ed-0b71-44e9-a763-c2d8d3c13318",
   "metadata": {
    "tags": []
   },
   "outputs": [
    {
     "data": {
      "text/plain": [
       "Index(['track_name', 'artist(s)_name', 'artist_count', 'released_year',\n",
       "       'released_month', 'released_day', 'in_spotify_playlists',\n",
       "       'in_spotify_charts', 'streams', 'in_apple_playlists', 'in_apple_charts',\n",
       "       'in_deezer_playlists', 'in_deezer_charts', 'in_shazam_charts', 'bpm',\n",
       "       'key', 'mode', 'danceability_%', 'valence_%', 'energy_%',\n",
       "       'acousticness_%', 'instrumentalness_%', 'liveness_%', 'speechiness_%'],\n",
       "      dtype='object')"
      ]
     },
     "execution_count": 90,
     "metadata": {},
     "output_type": "execute_result"
    }
   ],
   "source": [
    "spotify_df.columns"
   ]
  },
  {
   "cell_type": "code",
   "execution_count": 91,
   "id": "f91ade2d-1a05-4b97-82ea-4d51fa65db03",
   "metadata": {
    "tags": []
   },
   "outputs": [
    {
     "data": {
      "text/plain": [
       "(953, 24)"
      ]
     },
     "execution_count": 91,
     "metadata": {},
     "output_type": "execute_result"
    }
   ],
   "source": [
    "spotify_df.shape"
   ]
  },
  {
   "cell_type": "markdown",
   "id": "18b3136d-2ba8-4f05-9419-89013d9089a4",
   "metadata": {},
   "source": [
    "Count 'track_name' entries with errors"
   ]
  },
  {
   "cell_type": "code",
   "execution_count": 92,
   "id": "2a3cf197-c114-4f86-9771-7b922b979b8e",
   "metadata": {
    "tags": []
   },
   "outputs": [
    {
     "data": {
      "text/plain": [
       "70"
      ]
     },
     "execution_count": 92,
     "metadata": {},
     "output_type": "execute_result"
    }
   ],
   "source": [
    "spotify_df['track_name'].str.contains('�|ý').sum()"
   ]
  },
  {
   "cell_type": "code",
   "execution_count": 93,
   "id": "a5ad0dbd-7fc5-4ad5-a212-b81708689358",
   "metadata": {
    "tags": []
   },
   "outputs": [
    {
     "data": {
      "text/plain": [
       "70"
      ]
     },
     "execution_count": 93,
     "metadata": {},
     "output_type": "execute_result"
    }
   ],
   "source": [
    "spotify_df['track_name'].str.contains('[^a-zA-Z0-9\\s():\"\\'\\.,&!?#|$+\\[\\]/_-]', regex=True).sum()"
   ]
  },
  {
   "cell_type": "markdown",
   "id": "3d61320c-9148-4525-955c-4374e4f4d7d5",
   "metadata": {
    "tags": []
   },
   "source": [
    "Count 'artist(s)_name' entries with errors"
   ]
  },
  {
   "cell_type": "code",
   "execution_count": 94,
   "id": "a9816a52-5b5f-4f10-94ab-49551c5bf33a",
   "metadata": {
    "tags": []
   },
   "outputs": [
    {
     "data": {
      "text/plain": [
       "48"
      ]
     },
     "execution_count": 94,
     "metadata": {},
     "output_type": "execute_result"
    }
   ],
   "source": [
    "spotify_df['artist(s)_name'].str.contains('�').sum()"
   ]
  },
  {
   "cell_type": "code",
   "execution_count": 95,
   "id": "32da1f03-8cb6-42ba-9e9e-a4173bbe568e",
   "metadata": {
    "tags": []
   },
   "outputs": [
    {
     "data": {
      "text/plain": [
       "48"
      ]
     },
     "execution_count": 95,
     "metadata": {},
     "output_type": "execute_result"
    }
   ],
   "source": [
    "spotify_df['artist(s)_name'].str.contains('[^a-zA-Z0-9\\s():\"\\'\\.,&!?#|$+\\[\\]/_-]', regex=True).sum()"
   ]
  },
  {
   "cell_type": "markdown",
   "id": "0698f95e-39c8-48e2-9d36-4e339a508c3c",
   "metadata": {},
   "source": [
    "Manually cleaned the track and artist(s) names with unknown characters.<br>\n",
    "Diacritics (or accent marks) such as é or ñ will be removed since they seem to be the cause of many of the errors.<br>\n",
    "Saved as \"spotify_2023_cleaned.csv\""
   ]
  },
  {
   "cell_type": "code",
   "execution_count": 122,
   "id": "6dc43eea-9f8a-4df4-b803-ab79b3e798e9",
   "metadata": {
    "tags": []
   },
   "outputs": [],
   "source": [
    "# Load cleaned data\n",
    "spotify_clean_df = pd.read_csv(\"spotify_2023_cleaned.csv\", encoding_errors='replace', header=0)"
   ]
  },
  {
   "cell_type": "code",
   "execution_count": 127,
   "id": "ce67f27d-e39a-4218-b103-29471e19b604",
   "metadata": {
    "tags": []
   },
   "outputs": [
    {
     "data": {
      "text/plain": [
       "0"
      ]
     },
     "execution_count": 127,
     "metadata": {},
     "output_type": "execute_result"
    }
   ],
   "source": [
    "spotify_clean_df['track_name'].str.contains('[^a-zA-Z0-9\\s():\"\\'\\.,&!?#|$+\\[\\]/_*-]', regex=True).sum()"
   ]
  },
  {
   "cell_type": "code",
   "execution_count": 118,
   "id": "ff36ad48-d875-4248-9707-092a032e3b49",
   "metadata": {
    "tags": []
   },
   "outputs": [
    {
     "data": {
      "text/plain": [
       "0"
      ]
     },
     "execution_count": 118,
     "metadata": {},
     "output_type": "execute_result"
    }
   ],
   "source": [
    "spotify_clean_df['track_name'].str.contains('�|ý').sum()"
   ]
  },
  {
   "cell_type": "code",
   "execution_count": 129,
   "id": "7558fc62-cd86-4ddd-a0b6-592df4cc31ce",
   "metadata": {
    "tags": []
   },
   "outputs": [
    {
     "data": {
      "text/plain": [
       "0"
      ]
     },
     "execution_count": 129,
     "metadata": {},
     "output_type": "execute_result"
    }
   ],
   "source": [
    "spotify_clean_df['artist(s)_name'].str.contains('[^a-zA-Z0-9\\s():\"\\'\\.,&!?#|$+\\[\\]/_*-]', regex=True).sum()"
   ]
  },
  {
   "cell_type": "code",
   "execution_count": 124,
   "id": "04d35ead-055d-4fa2-8e5d-d6461f980be0",
   "metadata": {
    "tags": []
   },
   "outputs": [
    {
     "data": {
      "text/plain": [
       "0"
      ]
     },
     "execution_count": 124,
     "metadata": {},
     "output_type": "execute_result"
    }
   ],
   "source": [
    "spotify_clean_df['artist(s)_name'].str.contains('�').sum()"
   ]
  }
 ],
 "metadata": {
  "kernelspec": {
   "display_name": "Python 3 (ipykernel)",
   "language": "python",
   "name": "python3"
  },
  "language_info": {
   "codemirror_mode": {
    "name": "ipython",
    "version": 3
   },
   "file_extension": ".py",
   "mimetype": "text/x-python",
   "name": "python",
   "nbconvert_exporter": "python",
   "pygments_lexer": "ipython3",
   "version": "3.11.4"
  }
 },
 "nbformat": 4,
 "nbformat_minor": 5
}
