{
 "cells": [
  {
   "cell_type": "markdown",
   "id": "2fc43651-fda7-482b-bf34-203fc018b16d",
   "metadata": {},
   "source": [
    "# Spotify API data extraction"
   ]
  },
  {
   "cell_type": "code",
   "execution_count": 1,
   "id": "9ed84020-47b6-48ed-8bab-48076acd6779",
   "metadata": {
    "tags": []
   },
   "outputs": [],
   "source": [
    "# Import libaries\n",
    "import spotipy\n",
    "import pandas as pd\n",
    "import requests\n",
    "from spotipy.oauth2 import SpotifyClientCredentials"
   ]
  },
  {
   "cell_type": "code",
   "execution_count": 2,
   "id": "2cd284b8-5488-4c7d-84f8-a0495ef643c0",
   "metadata": {},
   "outputs": [],
   "source": [
    "# Get access token\n",
    "def get_spotify_access_token(client_id, client_secret):\n",
    "    auth_url = 'https://accounts.spotify.com/api/token'\n",
    "    auth_data = {\n",
    "        'grant_type': 'client_credentials',\n",
    "        'client_id': client_id,\n",
    "        'client_secret': client_secret,\n",
    "    }\n",
    "    auth_response = requests.post(auth_url, data=auth_data)\n",
    "    auth_response_data = auth_response.json()\n",
    "    return auth_response_data['access_token']\n",
    "\n",
    "# Function to extract track info\n",
    "def search_track(track_id, access_token):\n",
    "    track_url = f'https://api.spotify.com/v1/tracks/{track_id}'\n",
    "    headers = {'Authorization': 'Bearer ' + access_token}\n",
    "    track_response = requests.get(track_url, headers=headers)\n",
    "    track_response_data = track_response.json()\n",
    "\n",
    "    if 'error' in track_response_data:\n",
    "        return None\n",
    "\n",
    "    # Extract relevant information about the track\n",
    "    track_info = {\n",
    "        'Track Name': track_response_data['name'],\n",
    "        'Artist(s)': ', '.join([artist['name'] for artist in track_response_data['artists']]),\n",
    "        'Album': track_response_data['album']['name'],\n",
    "        'Release Date': track_response_data['album']['release_date'],\n",
    "        'Popularity': track_response_data['popularity'],\n",
    "        'URI': track_response_data['uri'],\n",
    "    }\n",
    "    \n",
    "    return track_info"
   ]
  },
  {
   "cell_type": "code",
   "execution_count": 3,
   "id": "cb275f54-aff9-4634-b410-b22b34230bd3",
   "metadata": {
    "tags": []
   },
   "outputs": [],
   "source": [
    "# Set up credentials\n",
    "client_id = '170449ff13924e30a2cda52d8a44442c'\n",
    "client_secret = 'dd1ae34cc6484a60a09a73f7ea0ca2ef'\n",
    "client_credentials_manager = SpotifyClientCredentials(client_id=client_id, client_secret=client_secret)\n",
    "# sp = spotipy.Spotify(client_credentials_manager=client_credentials_manager)\n",
    "access_token = get_spotify_access_token(client_id, client_secret)"
   ]
  },
  {
   "cell_type": "code",
   "execution_count": 4,
   "id": "559089df-6097-4038-8fee-680aeb85dd62",
   "metadata": {
    "tags": []
   },
   "outputs": [],
   "source": [
    "# Read in Billboard and Spotify API data\n",
    "billboard_df = pd.read_csv('billboard_dataset/data/audio_features.csv')\n",
    "spotify_api_df = pd.read_csv('spotify_dataset/data/spotify_top_tracks.csv')"
   ]
  },
  {
   "cell_type": "code",
   "execution_count": 12,
   "id": "3c902a8d-0239-4e20-8723-2208423554d2",
   "metadata": {
    "tags": []
   },
   "outputs": [
    {
     "data": {
      "text/plain": [
       "(29503, 22)"
      ]
     },
     "execution_count": 12,
     "metadata": {},
     "output_type": "execute_result"
    }
   ],
   "source": [
    "billboard_df.shape"
   ]
  },
  {
   "cell_type": "code",
   "execution_count": 13,
   "id": "681df90f-5fd8-4a4b-9fa1-a17e3ce5193a",
   "metadata": {
    "tags": []
   },
   "outputs": [
    {
     "data": {
      "text/plain": [
       "(50, 11)"
      ]
     },
     "execution_count": 13,
     "metadata": {},
     "output_type": "execute_result"
    }
   ],
   "source": [
    "spotify_api_df.shape"
   ]
  },
  {
   "cell_type": "code",
   "execution_count": 5,
   "id": "1f277b79-e11c-4475-a9d3-f6978bf8a540",
   "metadata": {
    "tags": []
   },
   "outputs": [],
   "source": [
    "# Rename song ID\n",
    "spotify_api_df.rename(columns={'id': 'spotify_track_id'}, inplace = True)\n",
    "\n",
    "# Join data\n",
    "merged_df = billboard_df.merge(spotify_api_df, on = 'spotify_track_id', how = 'left')"
   ]
  },
  {
   "cell_type": "code",
   "execution_count": 11,
   "id": "9c5bf4d0-d722-430a-ab04-da395d0d42bd",
   "metadata": {
    "tags": []
   },
   "outputs": [
    {
     "data": {
      "text/plain": [
       "(29503, 32)"
      ]
     },
     "execution_count": 11,
     "metadata": {},
     "output_type": "execute_result"
    }
   ],
   "source": [
    "merged_df.shape"
   ]
  },
  {
   "cell_type": "code",
   "execution_count": 10,
   "id": "b82767e2-dbaa-45a9-91aa-1f54dd1a7055",
   "metadata": {
    "tags": []
   },
   "outputs": [
    {
     "data": {
      "text/plain": [
       "song_id                          0\n",
       "performer                        0\n",
       "song                             0\n",
       "spotify_genre                 1600\n",
       "spotify_track_id              5106\n",
       "spotify_track_preview_url    15012\n",
       "spotify_track_duration_ms     5106\n",
       "spotify_track_explicit        5106\n",
       "spotify_track_album           5112\n",
       "danceability_x                5169\n",
       "energy_x                      5169\n",
       "key                           5169\n",
       "loudness                      5169\n",
       "mode                          5169\n",
       "speechiness                   5169\n",
       "acousticness                  5169\n",
       "instrumentalness              5169\n",
       "liveness                      5169\n",
       "valence                       5169\n",
       "tempo                         5169\n",
       "time_signature                5169\n",
       "spotify_track_popularity      5106\n",
       "name                         29488\n",
       "popularity                   29488\n",
       "duration_ms                  29488\n",
       "explicit                     29488\n",
       "album_id                     29488\n",
       "album_name                   29488\n",
       "artist_id                    29488\n",
       "artist_name                  29488\n",
       "danceability_y               29488\n",
       "energy_y                     29488\n",
       "dtype: int64"
      ]
     },
     "execution_count": 10,
     "metadata": {},
     "output_type": "execute_result"
    }
   ],
   "source": [
    "merged_df.isna().sum()"
   ]
  },
  {
   "cell_type": "code",
   "execution_count": null,
   "id": "77560327-ea67-4a93-9e5c-bf74d4ad1b39",
   "metadata": {},
   "outputs": [],
   "source": []
  },
  {
   "cell_type": "code",
   "execution_count": 6,
   "id": "59f0cab5-c39c-49a5-9c20-6d2eb44f07bb",
   "metadata": {
    "tags": []
   },
   "outputs": [],
   "source": [
    "# Extract track IDs into a list\n",
    "# billboard_tracks = pd.Series(billboard_df.spotify_track_id.unique()).dropna().tolist()\n",
    "# billboard_tracks[1]"
   ]
  },
  {
   "cell_type": "code",
   "execution_count": 7,
   "id": "090ee6b9-758d-4186-9838-df7f47ba687e",
   "metadata": {
    "tags": []
   },
   "outputs": [],
   "source": [
    "# Use track IDs to pull more variables from Spotify API\n",
    "# track_data_list = []\n",
    "# test = ['1fHHq3qHU8wpRKHzhojZ4a']\n",
    "\n",
    "# # Loop through each song and retrieve track data\n",
    "# for song in test:\n",
    "#     track_info = search_track(song, access_token)\n",
    "#     if track_info:\n",
    "#         track_data_list.append(track_info)\n",
    "        \n",
    "# # Convert to dataframe\n",
    "# api_df = pd.DataFrame(track_data_list)\n",
    "# api_df.head()"
   ]
  }
 ],
 "metadata": {
  "kernelspec": {
   "display_name": "Python 3 (ipykernel)",
   "language": "python",
   "name": "python3"
  },
  "language_info": {
   "codemirror_mode": {
    "name": "ipython",
    "version": 3
   },
   "file_extension": ".py",
   "mimetype": "text/x-python",
   "name": "python",
   "nbconvert_exporter": "python",
   "pygments_lexer": "ipython3",
   "version": "3.11.4"
  }
 },
 "nbformat": 4,
 "nbformat_minor": 5
}
